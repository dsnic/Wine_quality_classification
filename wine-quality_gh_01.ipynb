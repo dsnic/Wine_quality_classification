{
 "cells": [
  {
   "cell_type": "markdown",
   "metadata": {},
   "source": [
    "# Wine quality - classification"
   ]
  },
  {
   "cell_type": "markdown",
   "metadata": {},
   "source": [
    "<b>Data set from https://archive.ics.uci.edu/ml/datasets/Wine+Quality</b>\n",
    "<br><br>Citation: P. Cortez, A. Cerdeira, F. Almeida, T. Matos and J. Reis.\n",
    "Modeling wine preferences by data mining from physicochemical properties. In Decision Support Systems, Elsevier, 47(4):547-553, 2009.\n",
    "<br><br>Data set infomation: \"The two datasets are related to red and white variants of the Portuguese \"Vinho Verde\" wine.  The classes are ordered and not balanced (e.g. there are many more normal wines than excellent or poor ones). Outlier detection algorithms could be used to detect the few excellent or poor wines. Also, we are not sure if all input variables are relevant. So it could be interesting to test feature selection methods\".</b>\n",
    "<br><br><b>Attribute Information:</b>\n",
    "<br><b>Input variables (based on physicochemical tests):</b>\n",
    "1 - fixed acidity\n",
    "2 - volatile acidity\n",
    "3 - citric acid\n",
    "4 - residual sugar\n",
    "5 - chlorides\n",
    "6 - free sulfur dioxide\n",
    "7 - total sulfur dioxide\n",
    "8 - density\n",
    "9 - pH\n",
    "10 - sulphates\n",
    "11 - alcohol\n",
    "<br><b>Output variable (based on sensory data):</b>\n",
    "12 - quality (score between 0 and 10)"
   ]
  },
  {
   "cell_type": "code",
   "execution_count": 1,
   "metadata": {},
   "outputs": [],
   "source": [
    "import numpy as np\n",
    "import pandas as pd\n",
    "import matplotlib.pyplot as plt\n",
    "import sklearn\n",
    "import seaborn as sns\n",
    "from sklearn.ensemble import RandomForestClassifier\n",
    "from sklearn import tree\n",
    "from sklearn.svm import SVC\n",
    "from sklearn.metrics import confusion_matrix"
   ]
  },
  {
   "cell_type": "markdown",
   "metadata": {},
   "source": [
    "## Load data"
   ]
  },
  {
   "cell_type": "code",
   "execution_count": 2,
   "metadata": {},
   "outputs": [
    {
     "data": {
      "text/html": [
       "<div>\n",
       "<style scoped>\n",
       "    .dataframe tbody tr th:only-of-type {\n",
       "        vertical-align: middle;\n",
       "    }\n",
       "\n",
       "    .dataframe tbody tr th {\n",
       "        vertical-align: top;\n",
       "    }\n",
       "\n",
       "    .dataframe thead th {\n",
       "        text-align: right;\n",
       "    }\n",
       "</style>\n",
       "<table border=\"1\" class=\"dataframe\">\n",
       "  <thead>\n",
       "    <tr style=\"text-align: right;\">\n",
       "      <th></th>\n",
       "      <th>fixed acidity;\"volatile acidity\";\"citric acid\";\"residual sugar\";\"chlorides\";\"free sulfur dioxide\";\"total sulfur dioxide\";\"density\";\"pH\";\"sulphates\";\"alcohol\";\"quality\"</th>\n",
       "    </tr>\n",
       "  </thead>\n",
       "  <tbody>\n",
       "    <tr>\n",
       "      <th>0</th>\n",
       "      <td>7;0.27;0.36;20.7;0.045;45;170;1.001;3;0.45;8.8;6</td>\n",
       "    </tr>\n",
       "    <tr>\n",
       "      <th>1</th>\n",
       "      <td>6.3;0.3;0.34;1.6;0.049;14;132;0.994;3.3;0.49;9...</td>\n",
       "    </tr>\n",
       "    <tr>\n",
       "      <th>2</th>\n",
       "      <td>8.1;0.28;0.4;6.9;0.05;30;97;0.9951;3.26;0.44;1...</td>\n",
       "    </tr>\n",
       "    <tr>\n",
       "      <th>3</th>\n",
       "      <td>7.2;0.23;0.32;8.5;0.058;47;186;0.9956;3.19;0.4...</td>\n",
       "    </tr>\n",
       "    <tr>\n",
       "      <th>4</th>\n",
       "      <td>7.2;0.23;0.32;8.5;0.058;47;186;0.9956;3.19;0.4...</td>\n",
       "    </tr>\n",
       "  </tbody>\n",
       "</table>\n",
       "</div>"
      ],
      "text/plain": [
       "  fixed acidity;\"volatile acidity\";\"citric acid\";\"residual sugar\";\"chlorides\";\"free sulfur dioxide\";\"total sulfur dioxide\";\"density\";\"pH\";\"sulphates\";\"alcohol\";\"quality\"\n",
       "0   7;0.27;0.36;20.7;0.045;45;170;1.001;3;0.45;8.8;6                                                                                                                     \n",
       "1  6.3;0.3;0.34;1.6;0.049;14;132;0.994;3.3;0.49;9...                                                                                                                     \n",
       "2  8.1;0.28;0.4;6.9;0.05;30;97;0.9951;3.26;0.44;1...                                                                                                                     \n",
       "3  7.2;0.23;0.32;8.5;0.058;47;186;0.9956;3.19;0.4...                                                                                                                     \n",
       "4  7.2;0.23;0.32;8.5;0.058;47;186;0.9956;3.19;0.4...                                                                                                                     "
      ]
     },
     "execution_count": 2,
     "metadata": {},
     "output_type": "execute_result"
    }
   ],
   "source": [
    "df = pd.read_csv('winequality-white.csv')\n",
    "df.head()"
   ]
  },
  {
   "cell_type": "code",
   "execution_count": 3,
   "metadata": {},
   "outputs": [
    {
     "data": {
      "text/html": [
       "<div>\n",
       "<style scoped>\n",
       "    .dataframe tbody tr th:only-of-type {\n",
       "        vertical-align: middle;\n",
       "    }\n",
       "\n",
       "    .dataframe tbody tr th {\n",
       "        vertical-align: top;\n",
       "    }\n",
       "\n",
       "    .dataframe thead th {\n",
       "        text-align: right;\n",
       "    }\n",
       "</style>\n",
       "<table border=\"1\" class=\"dataframe\">\n",
       "  <thead>\n",
       "    <tr style=\"text-align: right;\">\n",
       "      <th></th>\n",
       "      <th>fixed acidity</th>\n",
       "      <th>volatile acidity</th>\n",
       "      <th>citric acid</th>\n",
       "      <th>residual sugar</th>\n",
       "      <th>chlorides</th>\n",
       "      <th>free sulfur dioxide</th>\n",
       "      <th>total sulfur dioxide</th>\n",
       "      <th>density</th>\n",
       "      <th>pH</th>\n",
       "      <th>sulphates</th>\n",
       "      <th>alcohol</th>\n",
       "      <th>quality</th>\n",
       "    </tr>\n",
       "  </thead>\n",
       "  <tbody>\n",
       "    <tr>\n",
       "      <th>0</th>\n",
       "      <td>7.0</td>\n",
       "      <td>0.27</td>\n",
       "      <td>0.36</td>\n",
       "      <td>20.7</td>\n",
       "      <td>0.045</td>\n",
       "      <td>45.0</td>\n",
       "      <td>170.0</td>\n",
       "      <td>1.0010</td>\n",
       "      <td>3.00</td>\n",
       "      <td>0.45</td>\n",
       "      <td>8.8</td>\n",
       "      <td>6</td>\n",
       "    </tr>\n",
       "    <tr>\n",
       "      <th>1</th>\n",
       "      <td>6.3</td>\n",
       "      <td>0.30</td>\n",
       "      <td>0.34</td>\n",
       "      <td>1.6</td>\n",
       "      <td>0.049</td>\n",
       "      <td>14.0</td>\n",
       "      <td>132.0</td>\n",
       "      <td>0.9940</td>\n",
       "      <td>3.30</td>\n",
       "      <td>0.49</td>\n",
       "      <td>9.5</td>\n",
       "      <td>6</td>\n",
       "    </tr>\n",
       "    <tr>\n",
       "      <th>2</th>\n",
       "      <td>8.1</td>\n",
       "      <td>0.28</td>\n",
       "      <td>0.40</td>\n",
       "      <td>6.9</td>\n",
       "      <td>0.050</td>\n",
       "      <td>30.0</td>\n",
       "      <td>97.0</td>\n",
       "      <td>0.9951</td>\n",
       "      <td>3.26</td>\n",
       "      <td>0.44</td>\n",
       "      <td>10.1</td>\n",
       "      <td>6</td>\n",
       "    </tr>\n",
       "    <tr>\n",
       "      <th>3</th>\n",
       "      <td>7.2</td>\n",
       "      <td>0.23</td>\n",
       "      <td>0.32</td>\n",
       "      <td>8.5</td>\n",
       "      <td>0.058</td>\n",
       "      <td>47.0</td>\n",
       "      <td>186.0</td>\n",
       "      <td>0.9956</td>\n",
       "      <td>3.19</td>\n",
       "      <td>0.40</td>\n",
       "      <td>9.9</td>\n",
       "      <td>6</td>\n",
       "    </tr>\n",
       "    <tr>\n",
       "      <th>4</th>\n",
       "      <td>7.2</td>\n",
       "      <td>0.23</td>\n",
       "      <td>0.32</td>\n",
       "      <td>8.5</td>\n",
       "      <td>0.058</td>\n",
       "      <td>47.0</td>\n",
       "      <td>186.0</td>\n",
       "      <td>0.9956</td>\n",
       "      <td>3.19</td>\n",
       "      <td>0.40</td>\n",
       "      <td>9.9</td>\n",
       "      <td>6</td>\n",
       "    </tr>\n",
       "  </tbody>\n",
       "</table>\n",
       "</div>"
      ],
      "text/plain": [
       "   fixed acidity  volatile acidity  citric acid  residual sugar  chlorides  \\\n",
       "0            7.0              0.27         0.36            20.7      0.045   \n",
       "1            6.3              0.30         0.34             1.6      0.049   \n",
       "2            8.1              0.28         0.40             6.9      0.050   \n",
       "3            7.2              0.23         0.32             8.5      0.058   \n",
       "4            7.2              0.23         0.32             8.5      0.058   \n",
       "\n",
       "   free sulfur dioxide  total sulfur dioxide  density    pH  sulphates  \\\n",
       "0                 45.0                 170.0   1.0010  3.00       0.45   \n",
       "1                 14.0                 132.0   0.9940  3.30       0.49   \n",
       "2                 30.0                  97.0   0.9951  3.26       0.44   \n",
       "3                 47.0                 186.0   0.9956  3.19       0.40   \n",
       "4                 47.0                 186.0   0.9956  3.19       0.40   \n",
       "\n",
       "   alcohol  quality  \n",
       "0      8.8        6  \n",
       "1      9.5        6  \n",
       "2     10.1        6  \n",
       "3      9.9        6  \n",
       "4      9.9        6  "
      ]
     },
     "execution_count": 3,
     "metadata": {},
     "output_type": "execute_result"
    }
   ],
   "source": [
    "df = pd.read_csv('winequality-white.csv', delimiter=';')\n",
    "df.head()"
   ]
  },
  {
   "cell_type": "code",
   "execution_count": 4,
   "metadata": {},
   "outputs": [
    {
     "name": "stdout",
     "output_type": "stream",
     "text": [
      "<class 'pandas.core.frame.DataFrame'>\n",
      "RangeIndex: 4898 entries, 0 to 4897\n",
      "Data columns (total 12 columns):\n",
      " #   Column                Non-Null Count  Dtype  \n",
      "---  ------                --------------  -----  \n",
      " 0   fixed acidity         4898 non-null   float64\n",
      " 1   volatile acidity      4898 non-null   float64\n",
      " 2   citric acid           4898 non-null   float64\n",
      " 3   residual sugar        4898 non-null   float64\n",
      " 4   chlorides             4898 non-null   float64\n",
      " 5   free sulfur dioxide   4898 non-null   float64\n",
      " 6   total sulfur dioxide  4898 non-null   float64\n",
      " 7   density               4898 non-null   float64\n",
      " 8   pH                    4898 non-null   float64\n",
      " 9   sulphates             4898 non-null   float64\n",
      " 10  alcohol               4898 non-null   float64\n",
      " 11  quality               4898 non-null   int64  \n",
      "dtypes: float64(11), int64(1)\n",
      "memory usage: 459.3 KB\n"
     ]
    }
   ],
   "source": [
    "df.info()"
   ]
  },
  {
   "cell_type": "code",
   "execution_count": 5,
   "metadata": {},
   "outputs": [
    {
     "data": {
      "text/plain": [
       "(4898, 12)"
      ]
     },
     "execution_count": 5,
     "metadata": {},
     "output_type": "execute_result"
    }
   ],
   "source": [
    "df.shape"
   ]
  },
  {
   "cell_type": "code",
   "execution_count": 6,
   "metadata": {},
   "outputs": [
    {
     "data": {
      "text/html": [
       "<div>\n",
       "<style scoped>\n",
       "    .dataframe tbody tr th:only-of-type {\n",
       "        vertical-align: middle;\n",
       "    }\n",
       "\n",
       "    .dataframe tbody tr th {\n",
       "        vertical-align: top;\n",
       "    }\n",
       "\n",
       "    .dataframe thead th {\n",
       "        text-align: right;\n",
       "    }\n",
       "</style>\n",
       "<table border=\"1\" class=\"dataframe\">\n",
       "  <thead>\n",
       "    <tr style=\"text-align: right;\">\n",
       "      <th></th>\n",
       "      <th>fixed acidity</th>\n",
       "      <th>volatile acidity</th>\n",
       "      <th>citric acid</th>\n",
       "      <th>residual sugar</th>\n",
       "      <th>chlorides</th>\n",
       "      <th>free sulfur dioxide</th>\n",
       "      <th>total sulfur dioxide</th>\n",
       "      <th>density</th>\n",
       "      <th>pH</th>\n",
       "      <th>sulphates</th>\n",
       "      <th>alcohol</th>\n",
       "      <th>quality</th>\n",
       "    </tr>\n",
       "  </thead>\n",
       "  <tbody>\n",
       "    <tr>\n",
       "      <th>count</th>\n",
       "      <td>4898.000000</td>\n",
       "      <td>4898.000000</td>\n",
       "      <td>4898.000000</td>\n",
       "      <td>4898.000000</td>\n",
       "      <td>4898.000000</td>\n",
       "      <td>4898.000000</td>\n",
       "      <td>4898.000000</td>\n",
       "      <td>4898.000000</td>\n",
       "      <td>4898.000000</td>\n",
       "      <td>4898.000000</td>\n",
       "      <td>4898.000000</td>\n",
       "      <td>4898.000000</td>\n",
       "    </tr>\n",
       "    <tr>\n",
       "      <th>mean</th>\n",
       "      <td>6.854788</td>\n",
       "      <td>0.278241</td>\n",
       "      <td>0.334192</td>\n",
       "      <td>6.391415</td>\n",
       "      <td>0.045772</td>\n",
       "      <td>35.308085</td>\n",
       "      <td>138.360657</td>\n",
       "      <td>0.994027</td>\n",
       "      <td>3.188267</td>\n",
       "      <td>0.489847</td>\n",
       "      <td>10.514267</td>\n",
       "      <td>5.877909</td>\n",
       "    </tr>\n",
       "    <tr>\n",
       "      <th>std</th>\n",
       "      <td>0.843868</td>\n",
       "      <td>0.100795</td>\n",
       "      <td>0.121020</td>\n",
       "      <td>5.072058</td>\n",
       "      <td>0.021848</td>\n",
       "      <td>17.007137</td>\n",
       "      <td>42.498065</td>\n",
       "      <td>0.002991</td>\n",
       "      <td>0.151001</td>\n",
       "      <td>0.114126</td>\n",
       "      <td>1.230621</td>\n",
       "      <td>0.885639</td>\n",
       "    </tr>\n",
       "    <tr>\n",
       "      <th>min</th>\n",
       "      <td>3.800000</td>\n",
       "      <td>0.080000</td>\n",
       "      <td>0.000000</td>\n",
       "      <td>0.600000</td>\n",
       "      <td>0.009000</td>\n",
       "      <td>2.000000</td>\n",
       "      <td>9.000000</td>\n",
       "      <td>0.987110</td>\n",
       "      <td>2.720000</td>\n",
       "      <td>0.220000</td>\n",
       "      <td>8.000000</td>\n",
       "      <td>3.000000</td>\n",
       "    </tr>\n",
       "    <tr>\n",
       "      <th>25%</th>\n",
       "      <td>6.300000</td>\n",
       "      <td>0.210000</td>\n",
       "      <td>0.270000</td>\n",
       "      <td>1.700000</td>\n",
       "      <td>0.036000</td>\n",
       "      <td>23.000000</td>\n",
       "      <td>108.000000</td>\n",
       "      <td>0.991723</td>\n",
       "      <td>3.090000</td>\n",
       "      <td>0.410000</td>\n",
       "      <td>9.500000</td>\n",
       "      <td>5.000000</td>\n",
       "    </tr>\n",
       "    <tr>\n",
       "      <th>50%</th>\n",
       "      <td>6.800000</td>\n",
       "      <td>0.260000</td>\n",
       "      <td>0.320000</td>\n",
       "      <td>5.200000</td>\n",
       "      <td>0.043000</td>\n",
       "      <td>34.000000</td>\n",
       "      <td>134.000000</td>\n",
       "      <td>0.993740</td>\n",
       "      <td>3.180000</td>\n",
       "      <td>0.470000</td>\n",
       "      <td>10.400000</td>\n",
       "      <td>6.000000</td>\n",
       "    </tr>\n",
       "    <tr>\n",
       "      <th>75%</th>\n",
       "      <td>7.300000</td>\n",
       "      <td>0.320000</td>\n",
       "      <td>0.390000</td>\n",
       "      <td>9.900000</td>\n",
       "      <td>0.050000</td>\n",
       "      <td>46.000000</td>\n",
       "      <td>167.000000</td>\n",
       "      <td>0.996100</td>\n",
       "      <td>3.280000</td>\n",
       "      <td>0.550000</td>\n",
       "      <td>11.400000</td>\n",
       "      <td>6.000000</td>\n",
       "    </tr>\n",
       "    <tr>\n",
       "      <th>max</th>\n",
       "      <td>14.200000</td>\n",
       "      <td>1.100000</td>\n",
       "      <td>1.660000</td>\n",
       "      <td>65.800000</td>\n",
       "      <td>0.346000</td>\n",
       "      <td>289.000000</td>\n",
       "      <td>440.000000</td>\n",
       "      <td>1.038980</td>\n",
       "      <td>3.820000</td>\n",
       "      <td>1.080000</td>\n",
       "      <td>14.200000</td>\n",
       "      <td>9.000000</td>\n",
       "    </tr>\n",
       "  </tbody>\n",
       "</table>\n",
       "</div>"
      ],
      "text/plain": [
       "       fixed acidity  volatile acidity  citric acid  residual sugar  \\\n",
       "count    4898.000000       4898.000000  4898.000000     4898.000000   \n",
       "mean        6.854788          0.278241     0.334192        6.391415   \n",
       "std         0.843868          0.100795     0.121020        5.072058   \n",
       "min         3.800000          0.080000     0.000000        0.600000   \n",
       "25%         6.300000          0.210000     0.270000        1.700000   \n",
       "50%         6.800000          0.260000     0.320000        5.200000   \n",
       "75%         7.300000          0.320000     0.390000        9.900000   \n",
       "max        14.200000          1.100000     1.660000       65.800000   \n",
       "\n",
       "         chlorides  free sulfur dioxide  total sulfur dioxide      density  \\\n",
       "count  4898.000000          4898.000000           4898.000000  4898.000000   \n",
       "mean      0.045772            35.308085            138.360657     0.994027   \n",
       "std       0.021848            17.007137             42.498065     0.002991   \n",
       "min       0.009000             2.000000              9.000000     0.987110   \n",
       "25%       0.036000            23.000000            108.000000     0.991723   \n",
       "50%       0.043000            34.000000            134.000000     0.993740   \n",
       "75%       0.050000            46.000000            167.000000     0.996100   \n",
       "max       0.346000           289.000000            440.000000     1.038980   \n",
       "\n",
       "                pH    sulphates      alcohol      quality  \n",
       "count  4898.000000  4898.000000  4898.000000  4898.000000  \n",
       "mean      3.188267     0.489847    10.514267     5.877909  \n",
       "std       0.151001     0.114126     1.230621     0.885639  \n",
       "min       2.720000     0.220000     8.000000     3.000000  \n",
       "25%       3.090000     0.410000     9.500000     5.000000  \n",
       "50%       3.180000     0.470000    10.400000     6.000000  \n",
       "75%       3.280000     0.550000    11.400000     6.000000  \n",
       "max       3.820000     1.080000    14.200000     9.000000  "
      ]
     },
     "execution_count": 6,
     "metadata": {},
     "output_type": "execute_result"
    }
   ],
   "source": [
    "df.describe()"
   ]
  },
  {
   "cell_type": "markdown",
   "metadata": {},
   "source": [
    "## Feature engineering"
   ]
  },
  {
   "cell_type": "markdown",
   "metadata": {},
   "source": [
    "<b>Ph</b> is used to measure ripeness in relation to acidity. Lower pH numbers mean a more acidic wine. Most wine pH's fall around 3 or 4. Some wines reach slightly beyond that. A wine with a pH of 3 is ten times more acidic than a wine with a pH of 4.\n",
    "<br>Our data ph level falls between min = 2.72 and max = 3.82. No outliers detected in max value area, but we have outliers in min value area, so I will eliminate all data in quantile(0.05). "
   ]
  },
  {
   "cell_type": "code",
   "execution_count": 7,
   "metadata": {},
   "outputs": [
    {
     "data": {
      "text/plain": [
       "2.96"
      ]
     },
     "execution_count": 7,
     "metadata": {},
     "output_type": "execute_result"
    }
   ],
   "source": [
    "min_thr_ph = df['pH'].quantile(0.05)\n",
    "min_thr_ph"
   ]
  },
  {
   "cell_type": "code",
   "execution_count": 8,
   "metadata": {},
   "outputs": [],
   "source": [
    "df1 = df[df['pH'] > min_thr_ph]"
   ]
  },
  {
   "cell_type": "code",
   "execution_count": 9,
   "metadata": {},
   "outputs": [
    {
     "data": {
      "text/plain": [
       "(4602, 12)"
      ]
     },
     "execution_count": 9,
     "metadata": {},
     "output_type": "execute_result"
    }
   ],
   "source": [
    "df1.shape"
   ]
  },
  {
   "cell_type": "code",
   "execution_count": 10,
   "metadata": {},
   "outputs": [
    {
     "data": {
      "text/html": [
       "<div>\n",
       "<style scoped>\n",
       "    .dataframe tbody tr th:only-of-type {\n",
       "        vertical-align: middle;\n",
       "    }\n",
       "\n",
       "    .dataframe tbody tr th {\n",
       "        vertical-align: top;\n",
       "    }\n",
       "\n",
       "    .dataframe thead th {\n",
       "        text-align: right;\n",
       "    }\n",
       "</style>\n",
       "<table border=\"1\" class=\"dataframe\">\n",
       "  <thead>\n",
       "    <tr style=\"text-align: right;\">\n",
       "      <th></th>\n",
       "      <th>fixed acidity</th>\n",
       "      <th>volatile acidity</th>\n",
       "      <th>citric acid</th>\n",
       "      <th>residual sugar</th>\n",
       "      <th>chlorides</th>\n",
       "      <th>free sulfur dioxide</th>\n",
       "      <th>total sulfur dioxide</th>\n",
       "      <th>density</th>\n",
       "      <th>pH</th>\n",
       "      <th>sulphates</th>\n",
       "      <th>alcohol</th>\n",
       "      <th>quality</th>\n",
       "    </tr>\n",
       "  </thead>\n",
       "  <tbody>\n",
       "    <tr>\n",
       "      <th>count</th>\n",
       "      <td>4602.000000</td>\n",
       "      <td>4602.000000</td>\n",
       "      <td>4602.000000</td>\n",
       "      <td>4602.000000</td>\n",
       "      <td>4602.000000</td>\n",
       "      <td>4602.000000</td>\n",
       "      <td>4602.000000</td>\n",
       "      <td>4602.000000</td>\n",
       "      <td>4602.000000</td>\n",
       "      <td>4602.000000</td>\n",
       "      <td>4602.000000</td>\n",
       "      <td>4602.000000</td>\n",
       "    </tr>\n",
       "    <tr>\n",
       "      <th>mean</th>\n",
       "      <td>6.806682</td>\n",
       "      <td>0.279513</td>\n",
       "      <td>0.331658</td>\n",
       "      <td>6.272001</td>\n",
       "      <td>0.045489</td>\n",
       "      <td>35.485984</td>\n",
       "      <td>138.937093</td>\n",
       "      <td>0.993980</td>\n",
       "      <td>3.205691</td>\n",
       "      <td>0.491958</td>\n",
       "      <td>10.536585</td>\n",
       "      <td>5.882442</td>\n",
       "    </tr>\n",
       "    <tr>\n",
       "      <th>std</th>\n",
       "      <td>0.811100</td>\n",
       "      <td>0.100801</td>\n",
       "      <td>0.119032</td>\n",
       "      <td>5.005081</td>\n",
       "      <td>0.020818</td>\n",
       "      <td>16.994069</td>\n",
       "      <td>42.205911</td>\n",
       "      <td>0.002967</td>\n",
       "      <td>0.138309</td>\n",
       "      <td>0.114092</td>\n",
       "      <td>1.224627</td>\n",
       "      <td>0.883499</td>\n",
       "    </tr>\n",
       "    <tr>\n",
       "      <th>min</th>\n",
       "      <td>3.800000</td>\n",
       "      <td>0.080000</td>\n",
       "      <td>0.000000</td>\n",
       "      <td>0.600000</td>\n",
       "      <td>0.009000</td>\n",
       "      <td>2.000000</td>\n",
       "      <td>9.000000</td>\n",
       "      <td>0.987110</td>\n",
       "      <td>2.970000</td>\n",
       "      <td>0.220000</td>\n",
       "      <td>8.000000</td>\n",
       "      <td>3.000000</td>\n",
       "    </tr>\n",
       "    <tr>\n",
       "      <th>25%</th>\n",
       "      <td>6.300000</td>\n",
       "      <td>0.210000</td>\n",
       "      <td>0.260000</td>\n",
       "      <td>1.700000</td>\n",
       "      <td>0.036000</td>\n",
       "      <td>23.000000</td>\n",
       "      <td>109.000000</td>\n",
       "      <td>0.991700</td>\n",
       "      <td>3.100000</td>\n",
       "      <td>0.410000</td>\n",
       "      <td>9.500000</td>\n",
       "      <td>5.000000</td>\n",
       "    </tr>\n",
       "    <tr>\n",
       "      <th>50%</th>\n",
       "      <td>6.800000</td>\n",
       "      <td>0.260000</td>\n",
       "      <td>0.310000</td>\n",
       "      <td>5.100000</td>\n",
       "      <td>0.043000</td>\n",
       "      <td>34.000000</td>\n",
       "      <td>134.000000</td>\n",
       "      <td>0.993700</td>\n",
       "      <td>3.190000</td>\n",
       "      <td>0.480000</td>\n",
       "      <td>10.400000</td>\n",
       "      <td>6.000000</td>\n",
       "    </tr>\n",
       "    <tr>\n",
       "      <th>75%</th>\n",
       "      <td>7.300000</td>\n",
       "      <td>0.320000</td>\n",
       "      <td>0.380000</td>\n",
       "      <td>9.600000</td>\n",
       "      <td>0.050000</td>\n",
       "      <td>46.000000</td>\n",
       "      <td>168.000000</td>\n",
       "      <td>0.996000</td>\n",
       "      <td>3.290000</td>\n",
       "      <td>0.550000</td>\n",
       "      <td>11.400000</td>\n",
       "      <td>6.000000</td>\n",
       "    </tr>\n",
       "    <tr>\n",
       "      <th>max</th>\n",
       "      <td>14.200000</td>\n",
       "      <td>1.100000</td>\n",
       "      <td>1.660000</td>\n",
       "      <td>65.800000</td>\n",
       "      <td>0.346000</td>\n",
       "      <td>289.000000</td>\n",
       "      <td>440.000000</td>\n",
       "      <td>1.038980</td>\n",
       "      <td>3.820000</td>\n",
       "      <td>1.080000</td>\n",
       "      <td>14.200000</td>\n",
       "      <td>9.000000</td>\n",
       "    </tr>\n",
       "  </tbody>\n",
       "</table>\n",
       "</div>"
      ],
      "text/plain": [
       "       fixed acidity  volatile acidity  citric acid  residual sugar  \\\n",
       "count    4602.000000       4602.000000  4602.000000     4602.000000   \n",
       "mean        6.806682          0.279513     0.331658        6.272001   \n",
       "std         0.811100          0.100801     0.119032        5.005081   \n",
       "min         3.800000          0.080000     0.000000        0.600000   \n",
       "25%         6.300000          0.210000     0.260000        1.700000   \n",
       "50%         6.800000          0.260000     0.310000        5.100000   \n",
       "75%         7.300000          0.320000     0.380000        9.600000   \n",
       "max        14.200000          1.100000     1.660000       65.800000   \n",
       "\n",
       "         chlorides  free sulfur dioxide  total sulfur dioxide      density  \\\n",
       "count  4602.000000          4602.000000           4602.000000  4602.000000   \n",
       "mean      0.045489            35.485984            138.937093     0.993980   \n",
       "std       0.020818            16.994069             42.205911     0.002967   \n",
       "min       0.009000             2.000000              9.000000     0.987110   \n",
       "25%       0.036000            23.000000            109.000000     0.991700   \n",
       "50%       0.043000            34.000000            134.000000     0.993700   \n",
       "75%       0.050000            46.000000            168.000000     0.996000   \n",
       "max       0.346000           289.000000            440.000000     1.038980   \n",
       "\n",
       "                pH    sulphates      alcohol      quality  \n",
       "count  4602.000000  4602.000000  4602.000000  4602.000000  \n",
       "mean      3.205691     0.491958    10.536585     5.882442  \n",
       "std       0.138309     0.114092     1.224627     0.883499  \n",
       "min       2.970000     0.220000     8.000000     3.000000  \n",
       "25%       3.100000     0.410000     9.500000     5.000000  \n",
       "50%       3.190000     0.480000    10.400000     6.000000  \n",
       "75%       3.290000     0.550000    11.400000     6.000000  \n",
       "max       3.820000     1.080000    14.200000     9.000000  "
      ]
     },
     "execution_count": 10,
     "metadata": {},
     "output_type": "execute_result"
    }
   ],
   "source": [
    "df1.describe()"
   ]
  },
  {
   "cell_type": "markdown",
   "metadata": {},
   "source": [
    "The <b>alcohol content</b> in white wine varies from 5% to 14% but comes in at an average of 10%. Removing outliers in alchool maximum level > 14."
   ]
  },
  {
   "cell_type": "code",
   "execution_count": 11,
   "metadata": {},
   "outputs": [
    {
     "data": {
      "text/plain": [
       "14.0"
      ]
     },
     "execution_count": 11,
     "metadata": {},
     "output_type": "execute_result"
    }
   ],
   "source": [
    "max_thr_alcohol = df1['alcohol'].quantile(0.999)\n",
    "max_thr_alcohol"
   ]
  },
  {
   "cell_type": "code",
   "execution_count": 12,
   "metadata": {},
   "outputs": [],
   "source": [
    "df2 = df1[df1['alcohol'] <= max_thr_alcohol]"
   ]
  },
  {
   "cell_type": "code",
   "execution_count": 13,
   "metadata": {},
   "outputs": [
    {
     "data": {
      "text/plain": [
       "(4600, 12)"
      ]
     },
     "execution_count": 13,
     "metadata": {},
     "output_type": "execute_result"
    }
   ],
   "source": [
    "df2.shape"
   ]
  },
  {
   "cell_type": "code",
   "execution_count": 14,
   "metadata": {},
   "outputs": [
    {
     "data": {
      "text/html": [
       "<div>\n",
       "<style scoped>\n",
       "    .dataframe tbody tr th:only-of-type {\n",
       "        vertical-align: middle;\n",
       "    }\n",
       "\n",
       "    .dataframe tbody tr th {\n",
       "        vertical-align: top;\n",
       "    }\n",
       "\n",
       "    .dataframe thead th {\n",
       "        text-align: right;\n",
       "    }\n",
       "</style>\n",
       "<table border=\"1\" class=\"dataframe\">\n",
       "  <thead>\n",
       "    <tr style=\"text-align: right;\">\n",
       "      <th></th>\n",
       "      <th>fixed acidity</th>\n",
       "      <th>volatile acidity</th>\n",
       "      <th>citric acid</th>\n",
       "      <th>residual sugar</th>\n",
       "      <th>chlorides</th>\n",
       "      <th>free sulfur dioxide</th>\n",
       "      <th>total sulfur dioxide</th>\n",
       "      <th>density</th>\n",
       "      <th>pH</th>\n",
       "      <th>sulphates</th>\n",
       "      <th>alcohol</th>\n",
       "      <th>quality</th>\n",
       "    </tr>\n",
       "  </thead>\n",
       "  <tbody>\n",
       "    <tr>\n",
       "      <th>count</th>\n",
       "      <td>4600.000000</td>\n",
       "      <td>4600.000000</td>\n",
       "      <td>4600.000000</td>\n",
       "      <td>4600.000000</td>\n",
       "      <td>4600.000000</td>\n",
       "      <td>4600.000000</td>\n",
       "      <td>4600.000000</td>\n",
       "      <td>4600.000000</td>\n",
       "      <td>4600.000000</td>\n",
       "      <td>4600.000000</td>\n",
       "      <td>4600.000000</td>\n",
       "      <td>4600.000000</td>\n",
       "    </tr>\n",
       "    <tr>\n",
       "      <th>mean</th>\n",
       "      <td>6.806989</td>\n",
       "      <td>0.279426</td>\n",
       "      <td>0.331739</td>\n",
       "      <td>6.272554</td>\n",
       "      <td>0.045492</td>\n",
       "      <td>35.487935</td>\n",
       "      <td>138.950326</td>\n",
       "      <td>0.993982</td>\n",
       "      <td>3.205698</td>\n",
       "      <td>0.491928</td>\n",
       "      <td>10.535025</td>\n",
       "      <td>5.881957</td>\n",
       "    </tr>\n",
       "    <tr>\n",
       "      <th>std</th>\n",
       "      <td>0.811118</td>\n",
       "      <td>0.100700</td>\n",
       "      <td>0.118961</td>\n",
       "      <td>5.005597</td>\n",
       "      <td>0.020822</td>\n",
       "      <td>16.997506</td>\n",
       "      <td>42.210209</td>\n",
       "      <td>0.002966</td>\n",
       "      <td>0.138331</td>\n",
       "      <td>0.114059</td>\n",
       "      <td>1.222603</td>\n",
       "      <td>0.883383</td>\n",
       "    </tr>\n",
       "    <tr>\n",
       "      <th>min</th>\n",
       "      <td>3.800000</td>\n",
       "      <td>0.080000</td>\n",
       "      <td>0.000000</td>\n",
       "      <td>0.600000</td>\n",
       "      <td>0.009000</td>\n",
       "      <td>2.000000</td>\n",
       "      <td>9.000000</td>\n",
       "      <td>0.987110</td>\n",
       "      <td>2.970000</td>\n",
       "      <td>0.220000</td>\n",
       "      <td>8.000000</td>\n",
       "      <td>3.000000</td>\n",
       "    </tr>\n",
       "    <tr>\n",
       "      <th>25%</th>\n",
       "      <td>6.300000</td>\n",
       "      <td>0.210000</td>\n",
       "      <td>0.260000</td>\n",
       "      <td>1.700000</td>\n",
       "      <td>0.036000</td>\n",
       "      <td>23.000000</td>\n",
       "      <td>109.000000</td>\n",
       "      <td>0.991700</td>\n",
       "      <td>3.100000</td>\n",
       "      <td>0.410000</td>\n",
       "      <td>9.500000</td>\n",
       "      <td>5.000000</td>\n",
       "    </tr>\n",
       "    <tr>\n",
       "      <th>50%</th>\n",
       "      <td>6.800000</td>\n",
       "      <td>0.260000</td>\n",
       "      <td>0.315000</td>\n",
       "      <td>5.100000</td>\n",
       "      <td>0.043000</td>\n",
       "      <td>34.000000</td>\n",
       "      <td>134.000000</td>\n",
       "      <td>0.993700</td>\n",
       "      <td>3.190000</td>\n",
       "      <td>0.480000</td>\n",
       "      <td>10.400000</td>\n",
       "      <td>6.000000</td>\n",
       "    </tr>\n",
       "    <tr>\n",
       "      <th>75%</th>\n",
       "      <td>7.300000</td>\n",
       "      <td>0.320000</td>\n",
       "      <td>0.380000</td>\n",
       "      <td>9.600000</td>\n",
       "      <td>0.050000</td>\n",
       "      <td>46.000000</td>\n",
       "      <td>168.000000</td>\n",
       "      <td>0.996000</td>\n",
       "      <td>3.290000</td>\n",
       "      <td>0.550000</td>\n",
       "      <td>11.400000</td>\n",
       "      <td>6.000000</td>\n",
       "    </tr>\n",
       "    <tr>\n",
       "      <th>max</th>\n",
       "      <td>14.200000</td>\n",
       "      <td>1.100000</td>\n",
       "      <td>1.660000</td>\n",
       "      <td>65.800000</td>\n",
       "      <td>0.346000</td>\n",
       "      <td>289.000000</td>\n",
       "      <td>440.000000</td>\n",
       "      <td>1.038980</td>\n",
       "      <td>3.820000</td>\n",
       "      <td>1.080000</td>\n",
       "      <td>14.000000</td>\n",
       "      <td>9.000000</td>\n",
       "    </tr>\n",
       "  </tbody>\n",
       "</table>\n",
       "</div>"
      ],
      "text/plain": [
       "       fixed acidity  volatile acidity  citric acid  residual sugar  \\\n",
       "count    4600.000000       4600.000000  4600.000000     4600.000000   \n",
       "mean        6.806989          0.279426     0.331739        6.272554   \n",
       "std         0.811118          0.100700     0.118961        5.005597   \n",
       "min         3.800000          0.080000     0.000000        0.600000   \n",
       "25%         6.300000          0.210000     0.260000        1.700000   \n",
       "50%         6.800000          0.260000     0.315000        5.100000   \n",
       "75%         7.300000          0.320000     0.380000        9.600000   \n",
       "max        14.200000          1.100000     1.660000       65.800000   \n",
       "\n",
       "         chlorides  free sulfur dioxide  total sulfur dioxide      density  \\\n",
       "count  4600.000000          4600.000000           4600.000000  4600.000000   \n",
       "mean      0.045492            35.487935            138.950326     0.993982   \n",
       "std       0.020822            16.997506             42.210209     0.002966   \n",
       "min       0.009000             2.000000              9.000000     0.987110   \n",
       "25%       0.036000            23.000000            109.000000     0.991700   \n",
       "50%       0.043000            34.000000            134.000000     0.993700   \n",
       "75%       0.050000            46.000000            168.000000     0.996000   \n",
       "max       0.346000           289.000000            440.000000     1.038980   \n",
       "\n",
       "                pH    sulphates      alcohol      quality  \n",
       "count  4600.000000  4600.000000  4600.000000  4600.000000  \n",
       "mean      3.205698     0.491928    10.535025     5.881957  \n",
       "std       0.138331     0.114059     1.222603     0.883383  \n",
       "min       2.970000     0.220000     8.000000     3.000000  \n",
       "25%       3.100000     0.410000     9.500000     5.000000  \n",
       "50%       3.190000     0.480000    10.400000     6.000000  \n",
       "75%       3.290000     0.550000    11.400000     6.000000  \n",
       "max       3.820000     1.080000    14.000000     9.000000  "
      ]
     },
     "execution_count": 14,
     "metadata": {},
     "output_type": "execute_result"
    }
   ],
   "source": [
    "df2.describe()"
   ]
  },
  {
   "cell_type": "markdown",
   "metadata": {},
   "source": [
    "The predominant <b>fixed acids</b> found in wines are tartaric, malic, citric, and succinic. Their levels found in wine: 1 to 5 mg/L tartaric acid, 0 to 8 mg/L malic acid, 0 to 0.7 mg/L citric acid, and 0.4 to 2 mg/L succinic acid.\n",
    "<br>Fixed acid level goes from min = 3.8 to max = 14.2. Removing extreme values for fixed acidity > 0.95 quantile.\n",
    "<br>Citric acid level goes from min = 0 to max = 1.66. Removing extreme values for citric acid > 0.99 quantile."
   ]
  },
  {
   "cell_type": "code",
   "execution_count": 15,
   "metadata": {},
   "outputs": [
    {
     "data": {
      "text/plain": [
       "8.2"
      ]
     },
     "execution_count": 15,
     "metadata": {},
     "output_type": "execute_result"
    }
   ],
   "source": [
    "max_thr_fixacc = df2['fixed acidity'].quantile(0.95)\n",
    "max_thr_fixacc"
   ]
  },
  {
   "cell_type": "code",
   "execution_count": 16,
   "metadata": {},
   "outputs": [],
   "source": [
    "df3 = df2[df2['fixed acidity'] < max_thr_fixacc]"
   ]
  },
  {
   "cell_type": "code",
   "execution_count": 17,
   "metadata": {},
   "outputs": [
    {
     "data": {
      "text/plain": [
       "0.74"
      ]
     },
     "execution_count": 17,
     "metadata": {},
     "output_type": "execute_result"
    }
   ],
   "source": [
    "max_thr_ca = df3['citric acid'].quantile(0.99)\n",
    "max_thr_ca"
   ]
  },
  {
   "cell_type": "code",
   "execution_count": 18,
   "metadata": {},
   "outputs": [],
   "source": [
    "df4 = df3[df3['citric acid'] < max_thr_ca]"
   ]
  },
  {
   "cell_type": "code",
   "execution_count": 19,
   "metadata": {},
   "outputs": [
    {
     "data": {
      "text/plain": [
       "(4292, 12)"
      ]
     },
     "execution_count": 19,
     "metadata": {},
     "output_type": "execute_result"
    }
   ],
   "source": [
    "df4.shape"
   ]
  },
  {
   "cell_type": "code",
   "execution_count": 20,
   "metadata": {},
   "outputs": [
    {
     "data": {
      "text/html": [
       "<div>\n",
       "<style scoped>\n",
       "    .dataframe tbody tr th:only-of-type {\n",
       "        vertical-align: middle;\n",
       "    }\n",
       "\n",
       "    .dataframe tbody tr th {\n",
       "        vertical-align: top;\n",
       "    }\n",
       "\n",
       "    .dataframe thead th {\n",
       "        text-align: right;\n",
       "    }\n",
       "</style>\n",
       "<table border=\"1\" class=\"dataframe\">\n",
       "  <thead>\n",
       "    <tr style=\"text-align: right;\">\n",
       "      <th></th>\n",
       "      <th>fixed acidity</th>\n",
       "      <th>volatile acidity</th>\n",
       "      <th>citric acid</th>\n",
       "      <th>residual sugar</th>\n",
       "      <th>chlorides</th>\n",
       "      <th>free sulfur dioxide</th>\n",
       "      <th>total sulfur dioxide</th>\n",
       "      <th>density</th>\n",
       "      <th>pH</th>\n",
       "      <th>sulphates</th>\n",
       "      <th>alcohol</th>\n",
       "      <th>quality</th>\n",
       "    </tr>\n",
       "  </thead>\n",
       "  <tbody>\n",
       "    <tr>\n",
       "      <th>count</th>\n",
       "      <td>4292.000000</td>\n",
       "      <td>4292.000000</td>\n",
       "      <td>4292.000000</td>\n",
       "      <td>4292.000000</td>\n",
       "      <td>4292.000000</td>\n",
       "      <td>4292.000000</td>\n",
       "      <td>4292.000000</td>\n",
       "      <td>4292.000000</td>\n",
       "      <td>4292.000000</td>\n",
       "      <td>4292.000000</td>\n",
       "      <td>4292.000000</td>\n",
       "      <td>4292.000000</td>\n",
       "    </tr>\n",
       "    <tr>\n",
       "      <th>mean</th>\n",
       "      <td>6.693278</td>\n",
       "      <td>0.279365</td>\n",
       "      <td>0.321699</td>\n",
       "      <td>6.272309</td>\n",
       "      <td>0.045483</td>\n",
       "      <td>35.778891</td>\n",
       "      <td>138.730196</td>\n",
       "      <td>0.993892</td>\n",
       "      <td>3.211333</td>\n",
       "      <td>0.492423</td>\n",
       "      <td>10.548034</td>\n",
       "      <td>5.903075</td>\n",
       "    </tr>\n",
       "    <tr>\n",
       "      <th>std</th>\n",
       "      <td>0.681858</td>\n",
       "      <td>0.099251</td>\n",
       "      <td>0.105300</td>\n",
       "      <td>4.980345</td>\n",
       "      <td>0.020776</td>\n",
       "      <td>17.059618</td>\n",
       "      <td>41.690929</td>\n",
       "      <td>0.002965</td>\n",
       "      <td>0.137906</td>\n",
       "      <td>0.113444</td>\n",
       "      <td>1.233169</td>\n",
       "      <td>0.880891</td>\n",
       "    </tr>\n",
       "    <tr>\n",
       "      <th>min</th>\n",
       "      <td>3.800000</td>\n",
       "      <td>0.080000</td>\n",
       "      <td>0.000000</td>\n",
       "      <td>0.700000</td>\n",
       "      <td>0.009000</td>\n",
       "      <td>2.000000</td>\n",
       "      <td>9.000000</td>\n",
       "      <td>0.987110</td>\n",
       "      <td>2.970000</td>\n",
       "      <td>0.220000</td>\n",
       "      <td>8.000000</td>\n",
       "      <td>3.000000</td>\n",
       "    </tr>\n",
       "    <tr>\n",
       "      <th>25%</th>\n",
       "      <td>6.200000</td>\n",
       "      <td>0.210000</td>\n",
       "      <td>0.260000</td>\n",
       "      <td>1.700000</td>\n",
       "      <td>0.036000</td>\n",
       "      <td>24.000000</td>\n",
       "      <td>109.000000</td>\n",
       "      <td>0.991640</td>\n",
       "      <td>3.110000</td>\n",
       "      <td>0.410000</td>\n",
       "      <td>9.500000</td>\n",
       "      <td>5.000000</td>\n",
       "    </tr>\n",
       "    <tr>\n",
       "      <th>50%</th>\n",
       "      <td>6.700000</td>\n",
       "      <td>0.260000</td>\n",
       "      <td>0.310000</td>\n",
       "      <td>5.100000</td>\n",
       "      <td>0.043000</td>\n",
       "      <td>34.000000</td>\n",
       "      <td>134.000000</td>\n",
       "      <td>0.993600</td>\n",
       "      <td>3.190000</td>\n",
       "      <td>0.480000</td>\n",
       "      <td>10.400000</td>\n",
       "      <td>6.000000</td>\n",
       "    </tr>\n",
       "    <tr>\n",
       "      <th>75%</th>\n",
       "      <td>7.200000</td>\n",
       "      <td>0.320000</td>\n",
       "      <td>0.370000</td>\n",
       "      <td>9.512500</td>\n",
       "      <td>0.050000</td>\n",
       "      <td>46.000000</td>\n",
       "      <td>167.250000</td>\n",
       "      <td>0.995900</td>\n",
       "      <td>3.300000</td>\n",
       "      <td>0.550000</td>\n",
       "      <td>11.400000</td>\n",
       "      <td>6.000000</td>\n",
       "    </tr>\n",
       "    <tr>\n",
       "      <th>max</th>\n",
       "      <td>8.100000</td>\n",
       "      <td>1.100000</td>\n",
       "      <td>0.730000</td>\n",
       "      <td>65.800000</td>\n",
       "      <td>0.346000</td>\n",
       "      <td>289.000000</td>\n",
       "      <td>440.000000</td>\n",
       "      <td>1.038980</td>\n",
       "      <td>3.820000</td>\n",
       "      <td>1.080000</td>\n",
       "      <td>14.000000</td>\n",
       "      <td>9.000000</td>\n",
       "    </tr>\n",
       "  </tbody>\n",
       "</table>\n",
       "</div>"
      ],
      "text/plain": [
       "       fixed acidity  volatile acidity  citric acid  residual sugar  \\\n",
       "count    4292.000000       4292.000000  4292.000000     4292.000000   \n",
       "mean        6.693278          0.279365     0.321699        6.272309   \n",
       "std         0.681858          0.099251     0.105300        4.980345   \n",
       "min         3.800000          0.080000     0.000000        0.700000   \n",
       "25%         6.200000          0.210000     0.260000        1.700000   \n",
       "50%         6.700000          0.260000     0.310000        5.100000   \n",
       "75%         7.200000          0.320000     0.370000        9.512500   \n",
       "max         8.100000          1.100000     0.730000       65.800000   \n",
       "\n",
       "         chlorides  free sulfur dioxide  total sulfur dioxide      density  \\\n",
       "count  4292.000000          4292.000000           4292.000000  4292.000000   \n",
       "mean      0.045483            35.778891            138.730196     0.993892   \n",
       "std       0.020776            17.059618             41.690929     0.002965   \n",
       "min       0.009000             2.000000              9.000000     0.987110   \n",
       "25%       0.036000            24.000000            109.000000     0.991640   \n",
       "50%       0.043000            34.000000            134.000000     0.993600   \n",
       "75%       0.050000            46.000000            167.250000     0.995900   \n",
       "max       0.346000           289.000000            440.000000     1.038980   \n",
       "\n",
       "                pH    sulphates      alcohol      quality  \n",
       "count  4292.000000  4292.000000  4292.000000  4292.000000  \n",
       "mean      3.211333     0.492423    10.548034     5.903075  \n",
       "std       0.137906     0.113444     1.233169     0.880891  \n",
       "min       2.970000     0.220000     8.000000     3.000000  \n",
       "25%       3.110000     0.410000     9.500000     5.000000  \n",
       "50%       3.190000     0.480000    10.400000     6.000000  \n",
       "75%       3.300000     0.550000    11.400000     6.000000  \n",
       "max       3.820000     1.080000    14.000000     9.000000  "
      ]
     },
     "execution_count": 20,
     "metadata": {},
     "output_type": "execute_result"
    }
   ],
   "source": [
    "df4.describe()"
   ]
  },
  {
   "cell_type": "markdown",
   "metadata": {},
   "source": [
    "<b>Volatile acidity (VA)</b> is a measure of the wine's volatile (or gaseous) acids. The maximum volatile acidity, calculated as acetic acid and exclusive of sulfur dioxide, is 1.2 g/L acetic acid for white wines.\n",
    "Volatile acidity falls in normal limits, between min = 0.08 and max = 1.1. No outiers detected."
   ]
  },
  {
   "cell_type": "markdown",
   "metadata": {},
   "source": [
    "<b>SO2 (Total sulfur dioxide)</b> Total SO2 = SO2 free + SO2 reacted\n",
    "<br>SO2 is an essential winemaking additive for its properties of anti-oxidation and preservation. In great quantities, it can cause adverse reactions and can be toxic for wine consumers. This is why the amounts of SO2 in wine are regulated by law.\n",
    "The dataset is related to white variants of the Portuguese \"Vinho Verde\" wine. According to UE legislation (Commision Delegated Regulation EU 2019/934) the maximum limit for SO2 in white wine is max = 400 mg/l.\n",
    "Removing extreme values for total sulfur dioxide > 400."
   ]
  },
  {
   "cell_type": "code",
   "execution_count": 21,
   "metadata": {},
   "outputs": [
    {
     "data": {
      "text/html": [
       "<div>\n",
       "<style scoped>\n",
       "    .dataframe tbody tr th:only-of-type {\n",
       "        vertical-align: middle;\n",
       "    }\n",
       "\n",
       "    .dataframe tbody tr th {\n",
       "        vertical-align: top;\n",
       "    }\n",
       "\n",
       "    .dataframe thead th {\n",
       "        text-align: right;\n",
       "    }\n",
       "</style>\n",
       "<table border=\"1\" class=\"dataframe\">\n",
       "  <thead>\n",
       "    <tr style=\"text-align: right;\">\n",
       "      <th></th>\n",
       "      <th>fixed acidity</th>\n",
       "      <th>volatile acidity</th>\n",
       "      <th>citric acid</th>\n",
       "      <th>residual sugar</th>\n",
       "      <th>chlorides</th>\n",
       "      <th>free sulfur dioxide</th>\n",
       "      <th>total sulfur dioxide</th>\n",
       "      <th>density</th>\n",
       "      <th>pH</th>\n",
       "      <th>sulphates</th>\n",
       "      <th>alcohol</th>\n",
       "      <th>quality</th>\n",
       "    </tr>\n",
       "  </thead>\n",
       "  <tbody>\n",
       "    <tr>\n",
       "      <th>4745</th>\n",
       "      <td>6.1</td>\n",
       "      <td>0.26</td>\n",
       "      <td>0.25</td>\n",
       "      <td>2.9</td>\n",
       "      <td>0.047</td>\n",
       "      <td>289.0</td>\n",
       "      <td>440.0</td>\n",
       "      <td>0.99314</td>\n",
       "      <td>3.44</td>\n",
       "      <td>0.64</td>\n",
       "      <td>10.5</td>\n",
       "      <td>3</td>\n",
       "    </tr>\n",
       "  </tbody>\n",
       "</table>\n",
       "</div>"
      ],
      "text/plain": [
       "      fixed acidity  volatile acidity  citric acid  residual sugar  chlorides  \\\n",
       "4745            6.1              0.26         0.25             2.9      0.047   \n",
       "\n",
       "      free sulfur dioxide  total sulfur dioxide  density    pH  sulphates  \\\n",
       "4745                289.0                 440.0  0.99314  3.44       0.64   \n",
       "\n",
       "      alcohol  quality  \n",
       "4745     10.5        3  "
      ]
     },
     "execution_count": 21,
     "metadata": {},
     "output_type": "execute_result"
    }
   ],
   "source": [
    "max_thr_so = df4[df4['total sulfur dioxide'] > 400]\n",
    "max_thr_so"
   ]
  },
  {
   "cell_type": "code",
   "execution_count": 22,
   "metadata": {},
   "outputs": [],
   "source": [
    "df5 = df4[df4['total sulfur dioxide'] < 400]"
   ]
  },
  {
   "cell_type": "code",
   "execution_count": 23,
   "metadata": {},
   "outputs": [
    {
     "data": {
      "text/plain": [
       "(4291, 12)"
      ]
     },
     "execution_count": 23,
     "metadata": {},
     "output_type": "execute_result"
    }
   ],
   "source": [
    "df5.shape"
   ]
  },
  {
   "cell_type": "code",
   "execution_count": 24,
   "metadata": {},
   "outputs": [
    {
     "data": {
      "text/html": [
       "<div>\n",
       "<style scoped>\n",
       "    .dataframe tbody tr th:only-of-type {\n",
       "        vertical-align: middle;\n",
       "    }\n",
       "\n",
       "    .dataframe tbody tr th {\n",
       "        vertical-align: top;\n",
       "    }\n",
       "\n",
       "    .dataframe thead th {\n",
       "        text-align: right;\n",
       "    }\n",
       "</style>\n",
       "<table border=\"1\" class=\"dataframe\">\n",
       "  <thead>\n",
       "    <tr style=\"text-align: right;\">\n",
       "      <th></th>\n",
       "      <th>fixed acidity</th>\n",
       "      <th>volatile acidity</th>\n",
       "      <th>citric acid</th>\n",
       "      <th>residual sugar</th>\n",
       "      <th>chlorides</th>\n",
       "      <th>free sulfur dioxide</th>\n",
       "      <th>total sulfur dioxide</th>\n",
       "      <th>density</th>\n",
       "      <th>pH</th>\n",
       "      <th>sulphates</th>\n",
       "      <th>alcohol</th>\n",
       "      <th>quality</th>\n",
       "    </tr>\n",
       "  </thead>\n",
       "  <tbody>\n",
       "    <tr>\n",
       "      <th>count</th>\n",
       "      <td>4291.000000</td>\n",
       "      <td>4291.000000</td>\n",
       "      <td>4291.000000</td>\n",
       "      <td>4291.000000</td>\n",
       "      <td>4291.000000</td>\n",
       "      <td>4291.000000</td>\n",
       "      <td>4291.000000</td>\n",
       "      <td>4291.000000</td>\n",
       "      <td>4291.000000</td>\n",
       "      <td>4291.000000</td>\n",
       "      <td>4291.000000</td>\n",
       "      <td>4291.000000</td>\n",
       "    </tr>\n",
       "    <tr>\n",
       "      <th>mean</th>\n",
       "      <td>6.693416</td>\n",
       "      <td>0.279370</td>\n",
       "      <td>0.321715</td>\n",
       "      <td>6.273095</td>\n",
       "      <td>0.045482</td>\n",
       "      <td>35.719879</td>\n",
       "      <td>138.659986</td>\n",
       "      <td>0.993893</td>\n",
       "      <td>3.211279</td>\n",
       "      <td>0.492389</td>\n",
       "      <td>10.548046</td>\n",
       "      <td>5.903752</td>\n",
       "    </tr>\n",
       "    <tr>\n",
       "      <th>std</th>\n",
       "      <td>0.681878</td>\n",
       "      <td>0.099263</td>\n",
       "      <td>0.105307</td>\n",
       "      <td>4.980660</td>\n",
       "      <td>0.020778</td>\n",
       "      <td>16.617711</td>\n",
       "      <td>41.441245</td>\n",
       "      <td>0.002965</td>\n",
       "      <td>0.137877</td>\n",
       "      <td>0.113435</td>\n",
       "      <td>1.233313</td>\n",
       "      <td>0.879877</td>\n",
       "    </tr>\n",
       "    <tr>\n",
       "      <th>min</th>\n",
       "      <td>3.800000</td>\n",
       "      <td>0.080000</td>\n",
       "      <td>0.000000</td>\n",
       "      <td>0.700000</td>\n",
       "      <td>0.009000</td>\n",
       "      <td>2.000000</td>\n",
       "      <td>9.000000</td>\n",
       "      <td>0.987110</td>\n",
       "      <td>2.970000</td>\n",
       "      <td>0.220000</td>\n",
       "      <td>8.000000</td>\n",
       "      <td>3.000000</td>\n",
       "    </tr>\n",
       "    <tr>\n",
       "      <th>25%</th>\n",
       "      <td>6.200000</td>\n",
       "      <td>0.210000</td>\n",
       "      <td>0.260000</td>\n",
       "      <td>1.700000</td>\n",
       "      <td>0.036000</td>\n",
       "      <td>24.000000</td>\n",
       "      <td>109.000000</td>\n",
       "      <td>0.991640</td>\n",
       "      <td>3.110000</td>\n",
       "      <td>0.410000</td>\n",
       "      <td>9.500000</td>\n",
       "      <td>5.000000</td>\n",
       "    </tr>\n",
       "    <tr>\n",
       "      <th>50%</th>\n",
       "      <td>6.700000</td>\n",
       "      <td>0.260000</td>\n",
       "      <td>0.310000</td>\n",
       "      <td>5.100000</td>\n",
       "      <td>0.043000</td>\n",
       "      <td>34.000000</td>\n",
       "      <td>134.000000</td>\n",
       "      <td>0.993600</td>\n",
       "      <td>3.190000</td>\n",
       "      <td>0.480000</td>\n",
       "      <td>10.400000</td>\n",
       "      <td>6.000000</td>\n",
       "    </tr>\n",
       "    <tr>\n",
       "      <th>75%</th>\n",
       "      <td>7.200000</td>\n",
       "      <td>0.320000</td>\n",
       "      <td>0.370000</td>\n",
       "      <td>9.525000</td>\n",
       "      <td>0.050000</td>\n",
       "      <td>46.000000</td>\n",
       "      <td>167.000000</td>\n",
       "      <td>0.995900</td>\n",
       "      <td>3.295000</td>\n",
       "      <td>0.550000</td>\n",
       "      <td>11.400000</td>\n",
       "      <td>6.000000</td>\n",
       "    </tr>\n",
       "    <tr>\n",
       "      <th>max</th>\n",
       "      <td>8.100000</td>\n",
       "      <td>1.100000</td>\n",
       "      <td>0.730000</td>\n",
       "      <td>65.800000</td>\n",
       "      <td>0.346000</td>\n",
       "      <td>146.500000</td>\n",
       "      <td>313.000000</td>\n",
       "      <td>1.038980</td>\n",
       "      <td>3.820000</td>\n",
       "      <td>1.080000</td>\n",
       "      <td>14.000000</td>\n",
       "      <td>9.000000</td>\n",
       "    </tr>\n",
       "  </tbody>\n",
       "</table>\n",
       "</div>"
      ],
      "text/plain": [
       "       fixed acidity  volatile acidity  citric acid  residual sugar  \\\n",
       "count    4291.000000       4291.000000  4291.000000     4291.000000   \n",
       "mean        6.693416          0.279370     0.321715        6.273095   \n",
       "std         0.681878          0.099263     0.105307        4.980660   \n",
       "min         3.800000          0.080000     0.000000        0.700000   \n",
       "25%         6.200000          0.210000     0.260000        1.700000   \n",
       "50%         6.700000          0.260000     0.310000        5.100000   \n",
       "75%         7.200000          0.320000     0.370000        9.525000   \n",
       "max         8.100000          1.100000     0.730000       65.800000   \n",
       "\n",
       "         chlorides  free sulfur dioxide  total sulfur dioxide      density  \\\n",
       "count  4291.000000          4291.000000           4291.000000  4291.000000   \n",
       "mean      0.045482            35.719879            138.659986     0.993893   \n",
       "std       0.020778            16.617711             41.441245     0.002965   \n",
       "min       0.009000             2.000000              9.000000     0.987110   \n",
       "25%       0.036000            24.000000            109.000000     0.991640   \n",
       "50%       0.043000            34.000000            134.000000     0.993600   \n",
       "75%       0.050000            46.000000            167.000000     0.995900   \n",
       "max       0.346000           146.500000            313.000000     1.038980   \n",
       "\n",
       "                pH    sulphates      alcohol      quality  \n",
       "count  4291.000000  4291.000000  4291.000000  4291.000000  \n",
       "mean      3.211279     0.492389    10.548046     5.903752  \n",
       "std       0.137877     0.113435     1.233313     0.879877  \n",
       "min       2.970000     0.220000     8.000000     3.000000  \n",
       "25%       3.110000     0.410000     9.500000     5.000000  \n",
       "50%       3.190000     0.480000    10.400000     6.000000  \n",
       "75%       3.295000     0.550000    11.400000     6.000000  \n",
       "max       3.820000     1.080000    14.000000     9.000000  "
      ]
     },
     "execution_count": 24,
     "metadata": {},
     "output_type": "execute_result"
    }
   ],
   "source": [
    "df5.describe()"
   ]
  },
  {
   "cell_type": "markdown",
   "metadata": {},
   "source": [
    "SO2 is still unbalanced. I\\`m using standard deviation to remove outliers.\n",
    "<br>In general 68% of data are within 1 standard deviation from the mean, 95% are within 2 std and 99.7% are within 3 std.\n",
    "<br>I\\`m using 3 std and I will remove all data under and over 3 std. "
   ]
  },
  {
   "cell_type": "code",
   "execution_count": 25,
   "metadata": {},
   "outputs": [
    {
     "data": {
      "text/plain": [
       "14.336250994249212"
      ]
     },
     "execution_count": 25,
     "metadata": {},
     "output_type": "execute_result"
    }
   ],
   "source": [
    "lower_std_so = df5['total sulfur dioxide'].mean() - 3*df5['total sulfur dioxide'].std()\n",
    "lower_std_so"
   ]
  },
  {
   "cell_type": "code",
   "execution_count": 26,
   "metadata": {},
   "outputs": [
    {
     "data": {
      "text/plain": [
       "262.98372104024156"
      ]
     },
     "execution_count": 26,
     "metadata": {},
     "output_type": "execute_result"
    }
   ],
   "source": [
    "upper_std_so = df5['total sulfur dioxide'].mean() + 3*df5['total sulfur dioxide'].std()\n",
    "upper_std_so"
   ]
  },
  {
   "cell_type": "code",
   "execution_count": 27,
   "metadata": {},
   "outputs": [
    {
     "data": {
      "text/html": [
       "<div>\n",
       "<style scoped>\n",
       "    .dataframe tbody tr th:only-of-type {\n",
       "        vertical-align: middle;\n",
       "    }\n",
       "\n",
       "    .dataframe tbody tr th {\n",
       "        vertical-align: top;\n",
       "    }\n",
       "\n",
       "    .dataframe thead th {\n",
       "        text-align: right;\n",
       "    }\n",
       "</style>\n",
       "<table border=\"1\" class=\"dataframe\">\n",
       "  <thead>\n",
       "    <tr style=\"text-align: right;\">\n",
       "      <th></th>\n",
       "      <th>fixed acidity</th>\n",
       "      <th>volatile acidity</th>\n",
       "      <th>citric acid</th>\n",
       "      <th>residual sugar</th>\n",
       "      <th>chlorides</th>\n",
       "      <th>free sulfur dioxide</th>\n",
       "      <th>total sulfur dioxide</th>\n",
       "      <th>density</th>\n",
       "      <th>pH</th>\n",
       "      <th>sulphates</th>\n",
       "      <th>alcohol</th>\n",
       "      <th>quality</th>\n",
       "    </tr>\n",
       "  </thead>\n",
       "  <tbody>\n",
       "    <tr>\n",
       "      <th>227</th>\n",
       "      <td>7.1</td>\n",
       "      <td>0.250</td>\n",
       "      <td>0.32</td>\n",
       "      <td>10.30</td>\n",
       "      <td>0.041</td>\n",
       "      <td>66.0</td>\n",
       "      <td>272.0</td>\n",
       "      <td>0.99690</td>\n",
       "      <td>3.17</td>\n",
       "      <td>0.52</td>\n",
       "      <td>9.1</td>\n",
       "      <td>6</td>\n",
       "    </tr>\n",
       "    <tr>\n",
       "      <th>325</th>\n",
       "      <td>7.5</td>\n",
       "      <td>0.270</td>\n",
       "      <td>0.31</td>\n",
       "      <td>5.80</td>\n",
       "      <td>0.057</td>\n",
       "      <td>131.0</td>\n",
       "      <td>313.0</td>\n",
       "      <td>0.99460</td>\n",
       "      <td>3.18</td>\n",
       "      <td>0.59</td>\n",
       "      <td>10.5</td>\n",
       "      <td>5</td>\n",
       "    </tr>\n",
       "    <tr>\n",
       "      <th>1931</th>\n",
       "      <td>7.1</td>\n",
       "      <td>0.490</td>\n",
       "      <td>0.22</td>\n",
       "      <td>2.00</td>\n",
       "      <td>0.047</td>\n",
       "      <td>146.5</td>\n",
       "      <td>307.5</td>\n",
       "      <td>0.99240</td>\n",
       "      <td>3.24</td>\n",
       "      <td>0.37</td>\n",
       "      <td>11.0</td>\n",
       "      <td>3</td>\n",
       "    </tr>\n",
       "    <tr>\n",
       "      <th>2654</th>\n",
       "      <td>6.9</td>\n",
       "      <td>0.400</td>\n",
       "      <td>0.22</td>\n",
       "      <td>5.95</td>\n",
       "      <td>0.081</td>\n",
       "      <td>76.0</td>\n",
       "      <td>303.0</td>\n",
       "      <td>0.99705</td>\n",
       "      <td>3.40</td>\n",
       "      <td>0.57</td>\n",
       "      <td>9.4</td>\n",
       "      <td>5</td>\n",
       "    </tr>\n",
       "    <tr>\n",
       "      <th>3050</th>\n",
       "      <td>6.2</td>\n",
       "      <td>0.255</td>\n",
       "      <td>0.24</td>\n",
       "      <td>1.70</td>\n",
       "      <td>0.039</td>\n",
       "      <td>138.5</td>\n",
       "      <td>272.0</td>\n",
       "      <td>0.99452</td>\n",
       "      <td>3.53</td>\n",
       "      <td>0.53</td>\n",
       "      <td>9.6</td>\n",
       "      <td>4</td>\n",
       "    </tr>\n",
       "    <tr>\n",
       "      <th>3710</th>\n",
       "      <td>4.7</td>\n",
       "      <td>0.670</td>\n",
       "      <td>0.09</td>\n",
       "      <td>1.00</td>\n",
       "      <td>0.020</td>\n",
       "      <td>5.0</td>\n",
       "      <td>9.0</td>\n",
       "      <td>0.98722</td>\n",
       "      <td>3.30</td>\n",
       "      <td>0.34</td>\n",
       "      <td>13.6</td>\n",
       "      <td>5</td>\n",
       "    </tr>\n",
       "    <tr>\n",
       "      <th>3901</th>\n",
       "      <td>4.8</td>\n",
       "      <td>0.650</td>\n",
       "      <td>0.12</td>\n",
       "      <td>1.10</td>\n",
       "      <td>0.013</td>\n",
       "      <td>4.0</td>\n",
       "      <td>10.0</td>\n",
       "      <td>0.99246</td>\n",
       "      <td>3.32</td>\n",
       "      <td>0.36</td>\n",
       "      <td>13.5</td>\n",
       "      <td>4</td>\n",
       "    </tr>\n",
       "  </tbody>\n",
       "</table>\n",
       "</div>"
      ],
      "text/plain": [
       "      fixed acidity  volatile acidity  citric acid  residual sugar  chlorides  \\\n",
       "227             7.1             0.250         0.32           10.30      0.041   \n",
       "325             7.5             0.270         0.31            5.80      0.057   \n",
       "1931            7.1             0.490         0.22            2.00      0.047   \n",
       "2654            6.9             0.400         0.22            5.95      0.081   \n",
       "3050            6.2             0.255         0.24            1.70      0.039   \n",
       "3710            4.7             0.670         0.09            1.00      0.020   \n",
       "3901            4.8             0.650         0.12            1.10      0.013   \n",
       "\n",
       "      free sulfur dioxide  total sulfur dioxide  density    pH  sulphates  \\\n",
       "227                  66.0                 272.0  0.99690  3.17       0.52   \n",
       "325                 131.0                 313.0  0.99460  3.18       0.59   \n",
       "1931                146.5                 307.5  0.99240  3.24       0.37   \n",
       "2654                 76.0                 303.0  0.99705  3.40       0.57   \n",
       "3050                138.5                 272.0  0.99452  3.53       0.53   \n",
       "3710                  5.0                   9.0  0.98722  3.30       0.34   \n",
       "3901                  4.0                  10.0  0.99246  3.32       0.36   \n",
       "\n",
       "      alcohol  quality  \n",
       "227       9.1        6  \n",
       "325      10.5        5  \n",
       "1931     11.0        3  \n",
       "2654      9.4        5  \n",
       "3050      9.6        4  \n",
       "3710     13.6        5  \n",
       "3901     13.5        4  "
      ]
     },
     "execution_count": 27,
     "metadata": {},
     "output_type": "execute_result"
    }
   ],
   "source": [
    "df5[(df5['total sulfur dioxide'] < lower_std_so) | (df5['total sulfur dioxide'] > upper_std_so)]"
   ]
  },
  {
   "cell_type": "code",
   "execution_count": 28,
   "metadata": {},
   "outputs": [],
   "source": [
    "df6 = df5[(df5['total sulfur dioxide'] > lower_std_so) & (df5['total sulfur dioxide'] < upper_std_so)]"
   ]
  },
  {
   "cell_type": "code",
   "execution_count": 29,
   "metadata": {},
   "outputs": [
    {
     "data": {
      "text/plain": [
       "(4284, 12)"
      ]
     },
     "execution_count": 29,
     "metadata": {},
     "output_type": "execute_result"
    }
   ],
   "source": [
    "df6.shape"
   ]
  },
  {
   "cell_type": "code",
   "execution_count": 30,
   "metadata": {},
   "outputs": [
    {
     "data": {
      "text/html": [
       "<div>\n",
       "<style scoped>\n",
       "    .dataframe tbody tr th:only-of-type {\n",
       "        vertical-align: middle;\n",
       "    }\n",
       "\n",
       "    .dataframe tbody tr th {\n",
       "        vertical-align: top;\n",
       "    }\n",
       "\n",
       "    .dataframe thead th {\n",
       "        text-align: right;\n",
       "    }\n",
       "</style>\n",
       "<table border=\"1\" class=\"dataframe\">\n",
       "  <thead>\n",
       "    <tr style=\"text-align: right;\">\n",
       "      <th></th>\n",
       "      <th>fixed acidity</th>\n",
       "      <th>volatile acidity</th>\n",
       "      <th>citric acid</th>\n",
       "      <th>residual sugar</th>\n",
       "      <th>chlorides</th>\n",
       "      <th>free sulfur dioxide</th>\n",
       "      <th>total sulfur dioxide</th>\n",
       "      <th>density</th>\n",
       "      <th>pH</th>\n",
       "      <th>sulphates</th>\n",
       "      <th>alcohol</th>\n",
       "      <th>quality</th>\n",
       "    </tr>\n",
       "  </thead>\n",
       "  <tbody>\n",
       "    <tr>\n",
       "      <th>count</th>\n",
       "      <td>4284.000000</td>\n",
       "      <td>4284.000000</td>\n",
       "      <td>4284.000000</td>\n",
       "      <td>4284.000000</td>\n",
       "      <td>4284.000000</td>\n",
       "      <td>4284.000000</td>\n",
       "      <td>4284.000000</td>\n",
       "      <td>4284.000000</td>\n",
       "      <td>4284.000000</td>\n",
       "      <td>4284.000000</td>\n",
       "      <td>4284.000000</td>\n",
       "      <td>4284.000000</td>\n",
       "    </tr>\n",
       "    <tr>\n",
       "      <th>mean</th>\n",
       "      <td>6.694013</td>\n",
       "      <td>0.279129</td>\n",
       "      <td>0.321886</td>\n",
       "      <td>6.276844</td>\n",
       "      <td>0.045487</td>\n",
       "      <td>35.645892</td>\n",
       "      <td>138.539566</td>\n",
       "      <td>0.993893</td>\n",
       "      <td>3.211125</td>\n",
       "      <td>0.492428</td>\n",
       "      <td>10.547377</td>\n",
       "      <td>5.905929</td>\n",
       "    </tr>\n",
       "    <tr>\n",
       "      <th>std</th>\n",
       "      <td>0.680923</td>\n",
       "      <td>0.098931</td>\n",
       "      <td>0.105258</td>\n",
       "      <td>4.982143</td>\n",
       "      <td>0.020777</td>\n",
       "      <td>16.373596</td>\n",
       "      <td>41.036794</td>\n",
       "      <td>0.002965</td>\n",
       "      <td>0.137854</td>\n",
       "      <td>0.113452</td>\n",
       "      <td>1.232186</td>\n",
       "      <td>0.878185</td>\n",
       "    </tr>\n",
       "    <tr>\n",
       "      <th>min</th>\n",
       "      <td>3.800000</td>\n",
       "      <td>0.080000</td>\n",
       "      <td>0.000000</td>\n",
       "      <td>0.700000</td>\n",
       "      <td>0.009000</td>\n",
       "      <td>2.000000</td>\n",
       "      <td>19.000000</td>\n",
       "      <td>0.987110</td>\n",
       "      <td>2.970000</td>\n",
       "      <td>0.220000</td>\n",
       "      <td>8.000000</td>\n",
       "      <td>3.000000</td>\n",
       "    </tr>\n",
       "    <tr>\n",
       "      <th>25%</th>\n",
       "      <td>6.200000</td>\n",
       "      <td>0.210000</td>\n",
       "      <td>0.260000</td>\n",
       "      <td>1.700000</td>\n",
       "      <td>0.036000</td>\n",
       "      <td>24.000000</td>\n",
       "      <td>109.000000</td>\n",
       "      <td>0.991640</td>\n",
       "      <td>3.110000</td>\n",
       "      <td>0.410000</td>\n",
       "      <td>9.500000</td>\n",
       "      <td>5.000000</td>\n",
       "    </tr>\n",
       "    <tr>\n",
       "      <th>50%</th>\n",
       "      <td>6.700000</td>\n",
       "      <td>0.260000</td>\n",
       "      <td>0.310000</td>\n",
       "      <td>5.100000</td>\n",
       "      <td>0.043000</td>\n",
       "      <td>34.000000</td>\n",
       "      <td>134.000000</td>\n",
       "      <td>0.993600</td>\n",
       "      <td>3.190000</td>\n",
       "      <td>0.480000</td>\n",
       "      <td>10.400000</td>\n",
       "      <td>6.000000</td>\n",
       "    </tr>\n",
       "    <tr>\n",
       "      <th>75%</th>\n",
       "      <td>7.200000</td>\n",
       "      <td>0.320000</td>\n",
       "      <td>0.370000</td>\n",
       "      <td>9.562500</td>\n",
       "      <td>0.050000</td>\n",
       "      <td>46.000000</td>\n",
       "      <td>167.000000</td>\n",
       "      <td>0.995900</td>\n",
       "      <td>3.290000</td>\n",
       "      <td>0.550000</td>\n",
       "      <td>11.400000</td>\n",
       "      <td>6.000000</td>\n",
       "    </tr>\n",
       "    <tr>\n",
       "      <th>max</th>\n",
       "      <td>8.100000</td>\n",
       "      <td>1.100000</td>\n",
       "      <td>0.730000</td>\n",
       "      <td>65.800000</td>\n",
       "      <td>0.346000</td>\n",
       "      <td>128.000000</td>\n",
       "      <td>260.000000</td>\n",
       "      <td>1.038980</td>\n",
       "      <td>3.820000</td>\n",
       "      <td>1.080000</td>\n",
       "      <td>14.000000</td>\n",
       "      <td>9.000000</td>\n",
       "    </tr>\n",
       "  </tbody>\n",
       "</table>\n",
       "</div>"
      ],
      "text/plain": [
       "       fixed acidity  volatile acidity  citric acid  residual sugar  \\\n",
       "count    4284.000000       4284.000000  4284.000000     4284.000000   \n",
       "mean        6.694013          0.279129     0.321886        6.276844   \n",
       "std         0.680923          0.098931     0.105258        4.982143   \n",
       "min         3.800000          0.080000     0.000000        0.700000   \n",
       "25%         6.200000          0.210000     0.260000        1.700000   \n",
       "50%         6.700000          0.260000     0.310000        5.100000   \n",
       "75%         7.200000          0.320000     0.370000        9.562500   \n",
       "max         8.100000          1.100000     0.730000       65.800000   \n",
       "\n",
       "         chlorides  free sulfur dioxide  total sulfur dioxide      density  \\\n",
       "count  4284.000000          4284.000000           4284.000000  4284.000000   \n",
       "mean      0.045487            35.645892            138.539566     0.993893   \n",
       "std       0.020777            16.373596             41.036794     0.002965   \n",
       "min       0.009000             2.000000             19.000000     0.987110   \n",
       "25%       0.036000            24.000000            109.000000     0.991640   \n",
       "50%       0.043000            34.000000            134.000000     0.993600   \n",
       "75%       0.050000            46.000000            167.000000     0.995900   \n",
       "max       0.346000           128.000000            260.000000     1.038980   \n",
       "\n",
       "                pH    sulphates      alcohol      quality  \n",
       "count  4284.000000  4284.000000  4284.000000  4284.000000  \n",
       "mean      3.211125     0.492428    10.547377     5.905929  \n",
       "std       0.137854     0.113452     1.232186     0.878185  \n",
       "min       2.970000     0.220000     8.000000     3.000000  \n",
       "25%       3.110000     0.410000     9.500000     5.000000  \n",
       "50%       3.190000     0.480000    10.400000     6.000000  \n",
       "75%       3.290000     0.550000    11.400000     6.000000  \n",
       "max       3.820000     1.080000    14.000000     9.000000  "
      ]
     },
     "execution_count": 30,
     "metadata": {},
     "output_type": "execute_result"
    }
   ],
   "source": [
    "df6.describe()"
   ]
  },
  {
   "cell_type": "markdown",
   "metadata": {},
   "source": [
    "<b>RS (Residual Sugar)</b> is from natural grape sugars leftover in a wine, after the alcoholic fermentation finishes. It is measured in grams per liter. Dry wines contain about 10 g/L of residual sugar. Sweet wines start at around 35 grams per liter of residual sugar and then go up from there.\n",
    "<br> RS value goes from min = 0.7 to max = 65.8. No outliers detected."
   ]
  },
  {
   "cell_type": "markdown",
   "metadata": {},
   "source": [
    "<b>Chlorides</b> is the amount of salt in wine. Median amount is 0.043 g per l. No outliers detected."
   ]
  },
  {
   "cell_type": "markdown",
   "metadata": {},
   "source": [
    "## Preparing data for simple validation (train/test split)"
   ]
  },
  {
   "cell_type": "markdown",
   "metadata": {},
   "source": [
    "#### Split the target variable \"quality\" from data set"
   ]
  },
  {
   "cell_type": "code",
   "execution_count": 31,
   "metadata": {},
   "outputs": [],
   "source": [
    "x_df = df6.drop(['quality'], axis=1)\n",
    "y_df = df6['quality']"
   ]
  },
  {
   "cell_type": "markdown",
   "metadata": {},
   "source": [
    "#### Split data into train and test"
   ]
  },
  {
   "cell_type": "code",
   "execution_count": 32,
   "metadata": {},
   "outputs": [],
   "source": [
    "from sklearn.model_selection import train_test_split\n",
    "tts = train_test_split(x_df, y_df, test_size=0.3, random_state=42)\n",
    "x_train, x_test, y_train, y_test = tts"
   ]
  },
  {
   "cell_type": "code",
   "execution_count": 33,
   "metadata": {},
   "outputs": [],
   "source": [
    "df_x_train = pd.DataFrame(x_train)\n",
    "df_y_train = pd.DataFrame(y_train)\n",
    "df_x_train.columns = list(x_df.columns)\n",
    "df_y_train.columns = ['quality']"
   ]
  },
  {
   "cell_type": "code",
   "execution_count": 34,
   "metadata": {},
   "outputs": [
    {
     "data": {
      "text/plain": [
       "((2998, 11), (1286, 11))"
      ]
     },
     "execution_count": 34,
     "metadata": {},
     "output_type": "execute_result"
    }
   ],
   "source": [
    "x_train.shape, x_test.shape"
   ]
  },
  {
   "cell_type": "code",
   "execution_count": 35,
   "metadata": {},
   "outputs": [
    {
     "data": {
      "text/plain": [
       "((2998,), (1286,))"
      ]
     },
     "execution_count": 35,
     "metadata": {},
     "output_type": "execute_result"
    }
   ],
   "source": [
    "y_train.shape, y_test.shape"
   ]
  },
  {
   "cell_type": "code",
   "execution_count": 36,
   "metadata": {},
   "outputs": [],
   "source": [
    "df_x_test = pd.DataFrame(x_test)\n",
    "df_y_test = pd.DataFrame(y_test)\n",
    "df_x_test.columns = list(x_df.columns)\n",
    "df_y_test.columns = ['quality']"
   ]
  },
  {
   "cell_type": "markdown",
   "metadata": {},
   "source": [
    "## Dimensionality reduction"
   ]
  },
  {
   "cell_type": "markdown",
   "metadata": {},
   "source": [
    "### Low correlation filter between features and quality"
   ]
  },
  {
   "cell_type": "markdown",
   "metadata": {},
   "source": [
    "#### Plotting initial correlation matrix to see the correlation between features"
   ]
  },
  {
   "cell_type": "code",
   "execution_count": 37,
   "metadata": {},
   "outputs": [
    {
     "data": {
      "text/html": [
       "<div>\n",
       "<style scoped>\n",
       "    .dataframe tbody tr th:only-of-type {\n",
       "        vertical-align: middle;\n",
       "    }\n",
       "\n",
       "    .dataframe tbody tr th {\n",
       "        vertical-align: top;\n",
       "    }\n",
       "\n",
       "    .dataframe thead th {\n",
       "        text-align: right;\n",
       "    }\n",
       "</style>\n",
       "<table border=\"1\" class=\"dataframe\">\n",
       "  <thead>\n",
       "    <tr style=\"text-align: right;\">\n",
       "      <th></th>\n",
       "      <th>fixed acidity</th>\n",
       "      <th>volatile acidity</th>\n",
       "      <th>citric acid</th>\n",
       "      <th>residual sugar</th>\n",
       "      <th>chlorides</th>\n",
       "      <th>free sulfur dioxide</th>\n",
       "      <th>total sulfur dioxide</th>\n",
       "      <th>density</th>\n",
       "      <th>pH</th>\n",
       "      <th>sulphates</th>\n",
       "      <th>alcohol</th>\n",
       "      <th>quality</th>\n",
       "    </tr>\n",
       "  </thead>\n",
       "  <tbody>\n",
       "    <tr>\n",
       "      <th>2750</th>\n",
       "      <td>5.8</td>\n",
       "      <td>0.17</td>\n",
       "      <td>0.34</td>\n",
       "      <td>1.80</td>\n",
       "      <td>0.045</td>\n",
       "      <td>96.0</td>\n",
       "      <td>170.0</td>\n",
       "      <td>0.99035</td>\n",
       "      <td>3.38</td>\n",
       "      <td>0.90</td>\n",
       "      <td>11.8</td>\n",
       "      <td>8</td>\n",
       "    </tr>\n",
       "    <tr>\n",
       "      <th>4039</th>\n",
       "      <td>6.1</td>\n",
       "      <td>1.10</td>\n",
       "      <td>0.16</td>\n",
       "      <td>4.40</td>\n",
       "      <td>0.033</td>\n",
       "      <td>8.0</td>\n",
       "      <td>109.0</td>\n",
       "      <td>0.99058</td>\n",
       "      <td>3.35</td>\n",
       "      <td>0.47</td>\n",
       "      <td>12.4</td>\n",
       "      <td>4</td>\n",
       "    </tr>\n",
       "    <tr>\n",
       "      <th>2884</th>\n",
       "      <td>7.0</td>\n",
       "      <td>0.28</td>\n",
       "      <td>0.32</td>\n",
       "      <td>7.75</td>\n",
       "      <td>0.032</td>\n",
       "      <td>30.0</td>\n",
       "      <td>114.0</td>\n",
       "      <td>0.99158</td>\n",
       "      <td>3.12</td>\n",
       "      <td>0.64</td>\n",
       "      <td>12.8</td>\n",
       "      <td>7</td>\n",
       "    </tr>\n",
       "    <tr>\n",
       "      <th>418</th>\n",
       "      <td>7.4</td>\n",
       "      <td>0.21</td>\n",
       "      <td>0.27</td>\n",
       "      <td>1.20</td>\n",
       "      <td>0.041</td>\n",
       "      <td>27.0</td>\n",
       "      <td>99.0</td>\n",
       "      <td>0.99270</td>\n",
       "      <td>3.19</td>\n",
       "      <td>0.33</td>\n",
       "      <td>9.8</td>\n",
       "      <td>6</td>\n",
       "    </tr>\n",
       "    <tr>\n",
       "      <th>3614</th>\n",
       "      <td>6.4</td>\n",
       "      <td>0.38</td>\n",
       "      <td>0.24</td>\n",
       "      <td>7.20</td>\n",
       "      <td>0.047</td>\n",
       "      <td>41.0</td>\n",
       "      <td>151.0</td>\n",
       "      <td>0.99604</td>\n",
       "      <td>3.11</td>\n",
       "      <td>0.60</td>\n",
       "      <td>9.2</td>\n",
       "      <td>5</td>\n",
       "    </tr>\n",
       "  </tbody>\n",
       "</table>\n",
       "</div>"
      ],
      "text/plain": [
       "      fixed acidity  volatile acidity  citric acid  residual sugar  chlorides  \\\n",
       "2750            5.8              0.17         0.34            1.80      0.045   \n",
       "4039            6.1              1.10         0.16            4.40      0.033   \n",
       "2884            7.0              0.28         0.32            7.75      0.032   \n",
       "418             7.4              0.21         0.27            1.20      0.041   \n",
       "3614            6.4              0.38         0.24            7.20      0.047   \n",
       "\n",
       "      free sulfur dioxide  total sulfur dioxide  density    pH  sulphates  \\\n",
       "2750                 96.0                 170.0  0.99035  3.38       0.90   \n",
       "4039                  8.0                 109.0  0.99058  3.35       0.47   \n",
       "2884                 30.0                 114.0  0.99158  3.12       0.64   \n",
       "418                  27.0                  99.0  0.99270  3.19       0.33   \n",
       "3614                 41.0                 151.0  0.99604  3.11       0.60   \n",
       "\n",
       "      alcohol  quality  \n",
       "2750     11.8        8  \n",
       "4039     12.4        4  \n",
       "2884     12.8        7  \n",
       "418       9.8        6  \n",
       "3614      9.2        5  "
      ]
     },
     "execution_count": 37,
     "metadata": {},
     "output_type": "execute_result"
    }
   ],
   "source": [
    "correlation_init = pd.concat([df_x_train, df_y_train], axis=1)\n",
    "cols = list(df6.columns)\n",
    "correlation_init.columns = cols\n",
    "correlation_init.head()"
   ]
  },
  {
   "cell_type": "code",
   "execution_count": 38,
   "metadata": {},
   "outputs": [
    {
     "data": {
      "text/html": [
       "<div>\n",
       "<style scoped>\n",
       "    .dataframe tbody tr th:only-of-type {\n",
       "        vertical-align: middle;\n",
       "    }\n",
       "\n",
       "    .dataframe tbody tr th {\n",
       "        vertical-align: top;\n",
       "    }\n",
       "\n",
       "    .dataframe thead th {\n",
       "        text-align: right;\n",
       "    }\n",
       "</style>\n",
       "<table border=\"1\" class=\"dataframe\">\n",
       "  <thead>\n",
       "    <tr style=\"text-align: right;\">\n",
       "      <th></th>\n",
       "      <th>fixed acidity</th>\n",
       "      <th>volatile acidity</th>\n",
       "      <th>citric acid</th>\n",
       "      <th>residual sugar</th>\n",
       "      <th>chlorides</th>\n",
       "      <th>free sulfur dioxide</th>\n",
       "      <th>total sulfur dioxide</th>\n",
       "      <th>density</th>\n",
       "      <th>pH</th>\n",
       "      <th>sulphates</th>\n",
       "      <th>alcohol</th>\n",
       "      <th>quality</th>\n",
       "    </tr>\n",
       "  </thead>\n",
       "  <tbody>\n",
       "    <tr>\n",
       "      <th>fixed acidity</th>\n",
       "      <td>1.000000</td>\n",
       "      <td>-0.044721</td>\n",
       "      <td>0.262393</td>\n",
       "      <td>0.130630</td>\n",
       "      <td>0.048597</td>\n",
       "      <td>0.019236</td>\n",
       "      <td>0.157095</td>\n",
       "      <td>0.265776</td>\n",
       "      <td>-0.381385</td>\n",
       "      <td>0.018500</td>\n",
       "      <td>-0.115995</td>\n",
       "      <td>-0.045928</td>\n",
       "    </tr>\n",
       "    <tr>\n",
       "      <th>volatile acidity</th>\n",
       "      <td>-0.044721</td>\n",
       "      <td>1.000000</td>\n",
       "      <td>-0.174824</td>\n",
       "      <td>0.077052</td>\n",
       "      <td>0.063328</td>\n",
       "      <td>-0.124107</td>\n",
       "      <td>0.073859</td>\n",
       "      <td>0.031032</td>\n",
       "      <td>-0.049251</td>\n",
       "      <td>-0.069308</td>\n",
       "      <td>0.065160</td>\n",
       "      <td>-0.194145</td>\n",
       "    </tr>\n",
       "    <tr>\n",
       "      <th>citric acid</th>\n",
       "      <td>0.262393</td>\n",
       "      <td>-0.174824</td>\n",
       "      <td>1.000000</td>\n",
       "      <td>0.081321</td>\n",
       "      <td>0.098441</td>\n",
       "      <td>0.131552</td>\n",
       "      <td>0.124186</td>\n",
       "      <td>0.120268</td>\n",
       "      <td>-0.159416</td>\n",
       "      <td>0.065719</td>\n",
       "      <td>-0.055577</td>\n",
       "      <td>0.039110</td>\n",
       "    </tr>\n",
       "    <tr>\n",
       "      <th>residual sugar</th>\n",
       "      <td>0.130630</td>\n",
       "      <td>0.077052</td>\n",
       "      <td>0.081321</td>\n",
       "      <td>1.000000</td>\n",
       "      <td>0.093261</td>\n",
       "      <td>0.313155</td>\n",
       "      <td>0.391790</td>\n",
       "      <td>0.844343</td>\n",
       "      <td>-0.192454</td>\n",
       "      <td>-0.048275</td>\n",
       "      <td>-0.443952</td>\n",
       "      <td>-0.125331</td>\n",
       "    </tr>\n",
       "    <tr>\n",
       "      <th>chlorides</th>\n",
       "      <td>0.048597</td>\n",
       "      <td>0.063328</td>\n",
       "      <td>0.098441</td>\n",
       "      <td>0.093261</td>\n",
       "      <td>1.000000</td>\n",
       "      <td>0.095602</td>\n",
       "      <td>0.186175</td>\n",
       "      <td>0.257125</td>\n",
       "      <td>-0.100920</td>\n",
       "      <td>-0.001731</td>\n",
       "      <td>-0.348795</td>\n",
       "      <td>-0.227166</td>\n",
       "    </tr>\n",
       "    <tr>\n",
       "      <th>free sulfur dioxide</th>\n",
       "      <td>0.019236</td>\n",
       "      <td>-0.124107</td>\n",
       "      <td>0.131552</td>\n",
       "      <td>0.313155</td>\n",
       "      <td>0.095602</td>\n",
       "      <td>1.000000</td>\n",
       "      <td>0.603565</td>\n",
       "      <td>0.314301</td>\n",
       "      <td>-0.069737</td>\n",
       "      <td>0.053658</td>\n",
       "      <td>-0.272798</td>\n",
       "      <td>0.014563</td>\n",
       "    </tr>\n",
       "    <tr>\n",
       "      <th>total sulfur dioxide</th>\n",
       "      <td>0.157095</td>\n",
       "      <td>0.073859</td>\n",
       "      <td>0.124186</td>\n",
       "      <td>0.391790</td>\n",
       "      <td>0.186175</td>\n",
       "      <td>0.603565</td>\n",
       "      <td>1.000000</td>\n",
       "      <td>0.527297</td>\n",
       "      <td>-0.045676</td>\n",
       "      <td>0.112401</td>\n",
       "      <td>-0.461712</td>\n",
       "      <td>-0.189732</td>\n",
       "    </tr>\n",
       "    <tr>\n",
       "      <th>density</th>\n",
       "      <td>0.265776</td>\n",
       "      <td>0.031032</td>\n",
       "      <td>0.120268</td>\n",
       "      <td>0.844343</td>\n",
       "      <td>0.257125</td>\n",
       "      <td>0.314301</td>\n",
       "      <td>0.527297</td>\n",
       "      <td>1.000000</td>\n",
       "      <td>-0.068205</td>\n",
       "      <td>0.060633</td>\n",
       "      <td>-0.774066</td>\n",
       "      <td>-0.327974</td>\n",
       "    </tr>\n",
       "    <tr>\n",
       "      <th>pH</th>\n",
       "      <td>-0.381385</td>\n",
       "      <td>-0.049251</td>\n",
       "      <td>-0.159416</td>\n",
       "      <td>-0.192454</td>\n",
       "      <td>-0.100920</td>\n",
       "      <td>-0.069737</td>\n",
       "      <td>-0.045676</td>\n",
       "      <td>-0.068205</td>\n",
       "      <td>1.000000</td>\n",
       "      <td>0.121769</td>\n",
       "      <td>0.093015</td>\n",
       "      <td>0.076443</td>\n",
       "    </tr>\n",
       "    <tr>\n",
       "      <th>sulphates</th>\n",
       "      <td>0.018500</td>\n",
       "      <td>-0.069308</td>\n",
       "      <td>0.065719</td>\n",
       "      <td>-0.048275</td>\n",
       "      <td>-0.001731</td>\n",
       "      <td>0.053658</td>\n",
       "      <td>0.112401</td>\n",
       "      <td>0.060633</td>\n",
       "      <td>0.121769</td>\n",
       "      <td>1.000000</td>\n",
       "      <td>-0.022363</td>\n",
       "      <td>0.056285</td>\n",
       "    </tr>\n",
       "    <tr>\n",
       "      <th>alcohol</th>\n",
       "      <td>-0.115995</td>\n",
       "      <td>0.065160</td>\n",
       "      <td>-0.055577</td>\n",
       "      <td>-0.443952</td>\n",
       "      <td>-0.348795</td>\n",
       "      <td>-0.272798</td>\n",
       "      <td>-0.461712</td>\n",
       "      <td>-0.774066</td>\n",
       "      <td>0.093015</td>\n",
       "      <td>-0.022363</td>\n",
       "      <td>1.000000</td>\n",
       "      <td>0.468908</td>\n",
       "    </tr>\n",
       "    <tr>\n",
       "      <th>quality</th>\n",
       "      <td>-0.045928</td>\n",
       "      <td>-0.194145</td>\n",
       "      <td>0.039110</td>\n",
       "      <td>-0.125331</td>\n",
       "      <td>-0.227166</td>\n",
       "      <td>0.014563</td>\n",
       "      <td>-0.189732</td>\n",
       "      <td>-0.327974</td>\n",
       "      <td>0.076443</td>\n",
       "      <td>0.056285</td>\n",
       "      <td>0.468908</td>\n",
       "      <td>1.000000</td>\n",
       "    </tr>\n",
       "  </tbody>\n",
       "</table>\n",
       "</div>"
      ],
      "text/plain": [
       "                      fixed acidity  volatile acidity  citric acid  \\\n",
       "fixed acidity              1.000000         -0.044721     0.262393   \n",
       "volatile acidity          -0.044721          1.000000    -0.174824   \n",
       "citric acid                0.262393         -0.174824     1.000000   \n",
       "residual sugar             0.130630          0.077052     0.081321   \n",
       "chlorides                  0.048597          0.063328     0.098441   \n",
       "free sulfur dioxide        0.019236         -0.124107     0.131552   \n",
       "total sulfur dioxide       0.157095          0.073859     0.124186   \n",
       "density                    0.265776          0.031032     0.120268   \n",
       "pH                        -0.381385         -0.049251    -0.159416   \n",
       "sulphates                  0.018500         -0.069308     0.065719   \n",
       "alcohol                   -0.115995          0.065160    -0.055577   \n",
       "quality                   -0.045928         -0.194145     0.039110   \n",
       "\n",
       "                      residual sugar  chlorides  free sulfur dioxide  \\\n",
       "fixed acidity               0.130630   0.048597             0.019236   \n",
       "volatile acidity            0.077052   0.063328            -0.124107   \n",
       "citric acid                 0.081321   0.098441             0.131552   \n",
       "residual sugar              1.000000   0.093261             0.313155   \n",
       "chlorides                   0.093261   1.000000             0.095602   \n",
       "free sulfur dioxide         0.313155   0.095602             1.000000   \n",
       "total sulfur dioxide        0.391790   0.186175             0.603565   \n",
       "density                     0.844343   0.257125             0.314301   \n",
       "pH                         -0.192454  -0.100920            -0.069737   \n",
       "sulphates                  -0.048275  -0.001731             0.053658   \n",
       "alcohol                    -0.443952  -0.348795            -0.272798   \n",
       "quality                    -0.125331  -0.227166             0.014563   \n",
       "\n",
       "                      total sulfur dioxide   density        pH  sulphates  \\\n",
       "fixed acidity                     0.157095  0.265776 -0.381385   0.018500   \n",
       "volatile acidity                  0.073859  0.031032 -0.049251  -0.069308   \n",
       "citric acid                       0.124186  0.120268 -0.159416   0.065719   \n",
       "residual sugar                    0.391790  0.844343 -0.192454  -0.048275   \n",
       "chlorides                         0.186175  0.257125 -0.100920  -0.001731   \n",
       "free sulfur dioxide               0.603565  0.314301 -0.069737   0.053658   \n",
       "total sulfur dioxide              1.000000  0.527297 -0.045676   0.112401   \n",
       "density                           0.527297  1.000000 -0.068205   0.060633   \n",
       "pH                               -0.045676 -0.068205  1.000000   0.121769   \n",
       "sulphates                         0.112401  0.060633  0.121769   1.000000   \n",
       "alcohol                          -0.461712 -0.774066  0.093015  -0.022363   \n",
       "quality                          -0.189732 -0.327974  0.076443   0.056285   \n",
       "\n",
       "                       alcohol   quality  \n",
       "fixed acidity        -0.115995 -0.045928  \n",
       "volatile acidity      0.065160 -0.194145  \n",
       "citric acid          -0.055577  0.039110  \n",
       "residual sugar       -0.443952 -0.125331  \n",
       "chlorides            -0.348795 -0.227166  \n",
       "free sulfur dioxide  -0.272798  0.014563  \n",
       "total sulfur dioxide -0.461712 -0.189732  \n",
       "density              -0.774066 -0.327974  \n",
       "pH                    0.093015  0.076443  \n",
       "sulphates            -0.022363  0.056285  \n",
       "alcohol               1.000000  0.468908  \n",
       "quality               0.468908  1.000000  "
      ]
     },
     "execution_count": 38,
     "metadata": {},
     "output_type": "execute_result"
    }
   ],
   "source": [
    "correlation_init = correlation_init.corr(method='pearson')\n",
    "correlation_init"
   ]
  },
  {
   "cell_type": "code",
   "execution_count": 39,
   "metadata": {},
   "outputs": [
    {
     "data": {
      "text/plain": [
       "<AxesSubplot:>"
      ]
     },
     "execution_count": 39,
     "metadata": {},
     "output_type": "execute_result"
    },
    {
     "data": {
      "image/png": "[encoded data removed]",
      "text/plain": [
       "<Figure size 864x864 with 2 Axes>"
      ]
     },
     "metadata": {
      "needs_background": "light"
     },
     "output_type": "display_data"
    }
   ],
   "source": [
    "plt.figure(figsize=(12,12))\n",
    "sns.heatmap(correlation_init, vmax=1, square=True, annot=True, cmap='viridis')"
   ]
  },
  {
   "cell_type": "markdown",
   "metadata": {},
   "source": [
    "Correlation levels of each feature with the target varible are not very high. None is > 0.5.\n",
    "<br>Some features have very low correlation with wine quality.\n",
    "<br><b>Eliminate irelevant features with a very low correlation level with wine quality (< 0.10).</b>"
   ]
  },
  {
   "cell_type": "code",
   "execution_count": 40,
   "metadata": {},
   "outputs": [
    {
     "data": {
      "text/plain": [
       "fixed acidity          0.045928\n",
       "citric acid            0.039110\n",
       "free sulfur dioxide    0.014563\n",
       "pH                     0.076443\n",
       "sulphates              0.056285\n",
       "Name: quality, dtype: float64"
      ]
     },
     "execution_count": 40,
     "metadata": {},
     "output_type": "execute_result"
    }
   ],
   "source": [
    "correlation_init = abs(correlation_init['quality'])\n",
    "irelevant_features = correlation_init[correlation_init<0.10]\n",
    "irelevant_features"
   ]
  },
  {
   "cell_type": "code",
   "execution_count": 41,
   "metadata": {},
   "outputs": [
    {
     "data": {
      "text/html": [
       "<div>\n",
       "<style scoped>\n",
       "    .dataframe tbody tr th:only-of-type {\n",
       "        vertical-align: middle;\n",
       "    }\n",
       "\n",
       "    .dataframe tbody tr th {\n",
       "        vertical-align: top;\n",
       "    }\n",
       "\n",
       "    .dataframe thead th {\n",
       "        text-align: right;\n",
       "    }\n",
       "</style>\n",
       "<table border=\"1\" class=\"dataframe\">\n",
       "  <thead>\n",
       "    <tr style=\"text-align: right;\">\n",
       "      <th></th>\n",
       "      <th>volatile acidity</th>\n",
       "      <th>residual sugar</th>\n",
       "      <th>chlorides</th>\n",
       "      <th>total sulfur dioxide</th>\n",
       "      <th>density</th>\n",
       "      <th>alcohol</th>\n",
       "    </tr>\n",
       "  </thead>\n",
       "  <tbody>\n",
       "    <tr>\n",
       "      <th>2750</th>\n",
       "      <td>0.17</td>\n",
       "      <td>1.80</td>\n",
       "      <td>0.045</td>\n",
       "      <td>170.0</td>\n",
       "      <td>0.99035</td>\n",
       "      <td>11.8</td>\n",
       "    </tr>\n",
       "    <tr>\n",
       "      <th>4039</th>\n",
       "      <td>1.10</td>\n",
       "      <td>4.40</td>\n",
       "      <td>0.033</td>\n",
       "      <td>109.0</td>\n",
       "      <td>0.99058</td>\n",
       "      <td>12.4</td>\n",
       "    </tr>\n",
       "    <tr>\n",
       "      <th>2884</th>\n",
       "      <td>0.28</td>\n",
       "      <td>7.75</td>\n",
       "      <td>0.032</td>\n",
       "      <td>114.0</td>\n",
       "      <td>0.99158</td>\n",
       "      <td>12.8</td>\n",
       "    </tr>\n",
       "    <tr>\n",
       "      <th>418</th>\n",
       "      <td>0.21</td>\n",
       "      <td>1.20</td>\n",
       "      <td>0.041</td>\n",
       "      <td>99.0</td>\n",
       "      <td>0.99270</td>\n",
       "      <td>9.8</td>\n",
       "    </tr>\n",
       "    <tr>\n",
       "      <th>3614</th>\n",
       "      <td>0.38</td>\n",
       "      <td>7.20</td>\n",
       "      <td>0.047</td>\n",
       "      <td>151.0</td>\n",
       "      <td>0.99604</td>\n",
       "      <td>9.2</td>\n",
       "    </tr>\n",
       "  </tbody>\n",
       "</table>\n",
       "</div>"
      ],
      "text/plain": [
       "      volatile acidity  residual sugar  chlorides  total sulfur dioxide  \\\n",
       "2750              0.17            1.80      0.045                 170.0   \n",
       "4039              1.10            4.40      0.033                 109.0   \n",
       "2884              0.28            7.75      0.032                 114.0   \n",
       "418               0.21            1.20      0.041                  99.0   \n",
       "3614              0.38            7.20      0.047                 151.0   \n",
       "\n",
       "      density  alcohol  \n",
       "2750  0.99035     11.8  \n",
       "4039  0.99058     12.4  \n",
       "2884  0.99158     12.8  \n",
       "418   0.99270      9.8  \n",
       "3614  0.99604      9.2  "
      ]
     },
     "execution_count": 41,
     "metadata": {},
     "output_type": "execute_result"
    }
   ],
   "source": [
    "df_x_train = df_x_train.drop(['fixed acidity','citric acid', 'free sulfur dioxide', 'pH', 'sulphates'], axis=1)\n",
    "df_x_train.head()"
   ]
  },
  {
   "cell_type": "markdown",
   "metadata": {},
   "source": [
    "### ANOVA (analysis of variance) F-value For Feature Selection"
   ]
  },
  {
   "cell_type": "markdown",
   "metadata": {},
   "source": [
    "The variance of a feature determines how much it is influencing the target variable. Low variance means there is no impact on the target variable."
   ]
  },
  {
   "cell_type": "code",
   "execution_count": 42,
   "metadata": {},
   "outputs": [
    {
     "data": {
      "text/html": [
       "<div>\n",
       "<style scoped>\n",
       "    .dataframe tbody tr th:only-of-type {\n",
       "        vertical-align: middle;\n",
       "    }\n",
       "\n",
       "    .dataframe tbody tr th {\n",
       "        vertical-align: top;\n",
       "    }\n",
       "\n",
       "    .dataframe thead th {\n",
       "        text-align: right;\n",
       "    }\n",
       "</style>\n",
       "<table border=\"1\" class=\"dataframe\">\n",
       "  <thead>\n",
       "    <tr style=\"text-align: right;\">\n",
       "      <th></th>\n",
       "      <th>fixed acidity</th>\n",
       "      <th>volatile acidity</th>\n",
       "      <th>citric acid</th>\n",
       "      <th>residual sugar</th>\n",
       "      <th>chlorides</th>\n",
       "      <th>free sulfur dioxide</th>\n",
       "      <th>total sulfur dioxide</th>\n",
       "      <th>density</th>\n",
       "      <th>pH</th>\n",
       "      <th>sulphates</th>\n",
       "      <th>alcohol</th>\n",
       "    </tr>\n",
       "  </thead>\n",
       "  <tbody>\n",
       "    <tr>\n",
       "      <th>2750</th>\n",
       "      <td>5.8</td>\n",
       "      <td>0.17</td>\n",
       "      <td>0.34</td>\n",
       "      <td>1.80</td>\n",
       "      <td>0.045</td>\n",
       "      <td>96.0</td>\n",
       "      <td>170.0</td>\n",
       "      <td>0.99035</td>\n",
       "      <td>3.38</td>\n",
       "      <td>0.90</td>\n",
       "      <td>11.8</td>\n",
       "    </tr>\n",
       "    <tr>\n",
       "      <th>4039</th>\n",
       "      <td>6.1</td>\n",
       "      <td>1.10</td>\n",
       "      <td>0.16</td>\n",
       "      <td>4.40</td>\n",
       "      <td>0.033</td>\n",
       "      <td>8.0</td>\n",
       "      <td>109.0</td>\n",
       "      <td>0.99058</td>\n",
       "      <td>3.35</td>\n",
       "      <td>0.47</td>\n",
       "      <td>12.4</td>\n",
       "    </tr>\n",
       "    <tr>\n",
       "      <th>2884</th>\n",
       "      <td>7.0</td>\n",
       "      <td>0.28</td>\n",
       "      <td>0.32</td>\n",
       "      <td>7.75</td>\n",
       "      <td>0.032</td>\n",
       "      <td>30.0</td>\n",
       "      <td>114.0</td>\n",
       "      <td>0.99158</td>\n",
       "      <td>3.12</td>\n",
       "      <td>0.64</td>\n",
       "      <td>12.8</td>\n",
       "    </tr>\n",
       "    <tr>\n",
       "      <th>418</th>\n",
       "      <td>7.4</td>\n",
       "      <td>0.21</td>\n",
       "      <td>0.27</td>\n",
       "      <td>1.20</td>\n",
       "      <td>0.041</td>\n",
       "      <td>27.0</td>\n",
       "      <td>99.0</td>\n",
       "      <td>0.99270</td>\n",
       "      <td>3.19</td>\n",
       "      <td>0.33</td>\n",
       "      <td>9.8</td>\n",
       "    </tr>\n",
       "    <tr>\n",
       "      <th>3614</th>\n",
       "      <td>6.4</td>\n",
       "      <td>0.38</td>\n",
       "      <td>0.24</td>\n",
       "      <td>7.20</td>\n",
       "      <td>0.047</td>\n",
       "      <td>41.0</td>\n",
       "      <td>151.0</td>\n",
       "      <td>0.99604</td>\n",
       "      <td>3.11</td>\n",
       "      <td>0.60</td>\n",
       "      <td>9.2</td>\n",
       "    </tr>\n",
       "  </tbody>\n",
       "</table>\n",
       "</div>"
      ],
      "text/plain": [
       "      fixed acidity  volatile acidity  citric acid  residual sugar  chlorides  \\\n",
       "2750            5.8              0.17         0.34            1.80      0.045   \n",
       "4039            6.1              1.10         0.16            4.40      0.033   \n",
       "2884            7.0              0.28         0.32            7.75      0.032   \n",
       "418             7.4              0.21         0.27            1.20      0.041   \n",
       "3614            6.4              0.38         0.24            7.20      0.047   \n",
       "\n",
       "      free sulfur dioxide  total sulfur dioxide  density    pH  sulphates  \\\n",
       "2750                 96.0                 170.0  0.99035  3.38       0.90   \n",
       "4039                  8.0                 109.0  0.99058  3.35       0.47   \n",
       "2884                 30.0                 114.0  0.99158  3.12       0.64   \n",
       "418                  27.0                  99.0  0.99270  3.19       0.33   \n",
       "3614                 41.0                 151.0  0.99604  3.11       0.60   \n",
       "\n",
       "      alcohol  \n",
       "2750     11.8  \n",
       "4039     12.4  \n",
       "2884     12.8  \n",
       "418       9.8  \n",
       "3614      9.2  "
      ]
     },
     "execution_count": 42,
     "metadata": {},
     "output_type": "execute_result"
    }
   ],
   "source": [
    "df_x_train_fclassif = pd.DataFrame(x_train)\n",
    "df_x_train_fclassif.head()"
   ]
  },
  {
   "cell_type": "code",
   "execution_count": 43,
   "metadata": {},
   "outputs": [
    {
     "data": {
      "text/plain": [
       "SelectKBest(k=6)"
      ]
     },
     "execution_count": 43,
     "metadata": {},
     "output_type": "execute_result"
    }
   ],
   "source": [
    "from sklearn.feature_selection import SelectKBest, f_classif\n",
    "\n",
    "# k = number of features we want to keep\n",
    "fclassif = SelectKBest(f_classif, k=6)\n",
    "fclassif.fit(df_x_train_fclassif, y_train)"
   ]
  },
  {
   "cell_type": "code",
   "execution_count": 44,
   "metadata": {},
   "outputs": [
    {
     "data": {
      "text/plain": [
       "Index(['volatile acidity', 'residual sugar', 'chlorides',\n",
       "       'total sulfur dioxide', 'density', 'alcohol'],\n",
       "      dtype='object')"
      ]
     },
     "execution_count": 44,
     "metadata": {},
     "output_type": "execute_result"
    }
   ],
   "source": [
    "# show relevant features\n",
    "df_x_train_fclassif.columns[fclassif.get_support()]"
   ]
  },
  {
   "cell_type": "markdown",
   "metadata": {},
   "source": [
    "The result of using F-value for feature selection is the same as the result of analysing the correlation matrix, which is the scaled version of the covariance matrix. \"Covariance is a measure of the joint variability of two random variables\"."
   ]
  },
  {
   "cell_type": "markdown",
   "metadata": {},
   "source": [
    "### Ploting correlation matrix with relevant features"
   ]
  },
  {
   "cell_type": "code",
   "execution_count": 45,
   "metadata": {},
   "outputs": [
    {
     "data": {
      "text/html": [
       "<div>\n",
       "<style scoped>\n",
       "    .dataframe tbody tr th:only-of-type {\n",
       "        vertical-align: middle;\n",
       "    }\n",
       "\n",
       "    .dataframe tbody tr th {\n",
       "        vertical-align: top;\n",
       "    }\n",
       "\n",
       "    .dataframe thead th {\n",
       "        text-align: right;\n",
       "    }\n",
       "</style>\n",
       "<table border=\"1\" class=\"dataframe\">\n",
       "  <thead>\n",
       "    <tr style=\"text-align: right;\">\n",
       "      <th></th>\n",
       "      <th>volatile acidity</th>\n",
       "      <th>residual sugar</th>\n",
       "      <th>chlorides</th>\n",
       "      <th>total sulfur dioxide</th>\n",
       "      <th>density</th>\n",
       "      <th>alcohol</th>\n",
       "      <th>quality</th>\n",
       "    </tr>\n",
       "  </thead>\n",
       "  <tbody>\n",
       "    <tr>\n",
       "      <th>2750</th>\n",
       "      <td>0.17</td>\n",
       "      <td>1.80</td>\n",
       "      <td>0.045</td>\n",
       "      <td>170.0</td>\n",
       "      <td>0.99035</td>\n",
       "      <td>11.8</td>\n",
       "      <td>8</td>\n",
       "    </tr>\n",
       "    <tr>\n",
       "      <th>4039</th>\n",
       "      <td>1.10</td>\n",
       "      <td>4.40</td>\n",
       "      <td>0.033</td>\n",
       "      <td>109.0</td>\n",
       "      <td>0.99058</td>\n",
       "      <td>12.4</td>\n",
       "      <td>4</td>\n",
       "    </tr>\n",
       "    <tr>\n",
       "      <th>2884</th>\n",
       "      <td>0.28</td>\n",
       "      <td>7.75</td>\n",
       "      <td>0.032</td>\n",
       "      <td>114.0</td>\n",
       "      <td>0.99158</td>\n",
       "      <td>12.8</td>\n",
       "      <td>7</td>\n",
       "    </tr>\n",
       "    <tr>\n",
       "      <th>418</th>\n",
       "      <td>0.21</td>\n",
       "      <td>1.20</td>\n",
       "      <td>0.041</td>\n",
       "      <td>99.0</td>\n",
       "      <td>0.99270</td>\n",
       "      <td>9.8</td>\n",
       "      <td>6</td>\n",
       "    </tr>\n",
       "    <tr>\n",
       "      <th>3614</th>\n",
       "      <td>0.38</td>\n",
       "      <td>7.20</td>\n",
       "      <td>0.047</td>\n",
       "      <td>151.0</td>\n",
       "      <td>0.99604</td>\n",
       "      <td>9.2</td>\n",
       "      <td>5</td>\n",
       "    </tr>\n",
       "  </tbody>\n",
       "</table>\n",
       "</div>"
      ],
      "text/plain": [
       "      volatile acidity  residual sugar  chlorides  total sulfur dioxide  \\\n",
       "2750              0.17            1.80      0.045                 170.0   \n",
       "4039              1.10            4.40      0.033                 109.0   \n",
       "2884              0.28            7.75      0.032                 114.0   \n",
       "418               0.21            1.20      0.041                  99.0   \n",
       "3614              0.38            7.20      0.047                 151.0   \n",
       "\n",
       "      density  alcohol  quality  \n",
       "2750  0.99035     11.8        8  \n",
       "4039  0.99058     12.4        4  \n",
       "2884  0.99158     12.8        7  \n",
       "418   0.99270      9.8        6  \n",
       "3614  0.99604      9.2        5  "
      ]
     },
     "execution_count": 45,
     "metadata": {},
     "output_type": "execute_result"
    }
   ],
   "source": [
    "correlation_final = pd.concat([df_x_train, df_y_train], axis=1)\n",
    "correlation_final.head()"
   ]
  },
  {
   "cell_type": "code",
   "execution_count": 46,
   "metadata": {},
   "outputs": [
    {
     "data": {
      "text/html": [
       "<div>\n",
       "<style scoped>\n",
       "    .dataframe tbody tr th:only-of-type {\n",
       "        vertical-align: middle;\n",
       "    }\n",
       "\n",
       "    .dataframe tbody tr th {\n",
       "        vertical-align: top;\n",
       "    }\n",
       "\n",
       "    .dataframe thead th {\n",
       "        text-align: right;\n",
       "    }\n",
       "</style>\n",
       "<table border=\"1\" class=\"dataframe\">\n",
       "  <thead>\n",
       "    <tr style=\"text-align: right;\">\n",
       "      <th></th>\n",
       "      <th>volatile acidity</th>\n",
       "      <th>residual sugar</th>\n",
       "      <th>chlorides</th>\n",
       "      <th>total sulfur dioxide</th>\n",
       "      <th>density</th>\n",
       "      <th>alcohol</th>\n",
       "      <th>quality</th>\n",
       "    </tr>\n",
       "  </thead>\n",
       "  <tbody>\n",
       "    <tr>\n",
       "      <th>volatile acidity</th>\n",
       "      <td>1.000000</td>\n",
       "      <td>0.077052</td>\n",
       "      <td>0.063328</td>\n",
       "      <td>0.073859</td>\n",
       "      <td>0.031032</td>\n",
       "      <td>0.065160</td>\n",
       "      <td>-0.194145</td>\n",
       "    </tr>\n",
       "    <tr>\n",
       "      <th>residual sugar</th>\n",
       "      <td>0.077052</td>\n",
       "      <td>1.000000</td>\n",
       "      <td>0.093261</td>\n",
       "      <td>0.391790</td>\n",
       "      <td>0.844343</td>\n",
       "      <td>-0.443952</td>\n",
       "      <td>-0.125331</td>\n",
       "    </tr>\n",
       "    <tr>\n",
       "      <th>chlorides</th>\n",
       "      <td>0.063328</td>\n",
       "      <td>0.093261</td>\n",
       "      <td>1.000000</td>\n",
       "      <td>0.186175</td>\n",
       "      <td>0.257125</td>\n",
       "      <td>-0.348795</td>\n",
       "      <td>-0.227166</td>\n",
       "    </tr>\n",
       "    <tr>\n",
       "      <th>total sulfur dioxide</th>\n",
       "      <td>0.073859</td>\n",
       "      <td>0.391790</td>\n",
       "      <td>0.186175</td>\n",
       "      <td>1.000000</td>\n",
       "      <td>0.527297</td>\n",
       "      <td>-0.461712</td>\n",
       "      <td>-0.189732</td>\n",
       "    </tr>\n",
       "    <tr>\n",
       "      <th>density</th>\n",
       "      <td>0.031032</td>\n",
       "      <td>0.844343</td>\n",
       "      <td>0.257125</td>\n",
       "      <td>0.527297</td>\n",
       "      <td>1.000000</td>\n",
       "      <td>-0.774066</td>\n",
       "      <td>-0.327974</td>\n",
       "    </tr>\n",
       "  </tbody>\n",
       "</table>\n",
       "</div>"
      ],
      "text/plain": [
       "                      volatile acidity  residual sugar  chlorides  \\\n",
       "volatile acidity              1.000000        0.077052   0.063328   \n",
       "residual sugar                0.077052        1.000000   0.093261   \n",
       "chlorides                     0.063328        0.093261   1.000000   \n",
       "total sulfur dioxide          0.073859        0.391790   0.186175   \n",
       "density                       0.031032        0.844343   0.257125   \n",
       "\n",
       "                      total sulfur dioxide   density   alcohol   quality  \n",
       "volatile acidity                  0.073859  0.031032  0.065160 -0.194145  \n",
       "residual sugar                    0.391790  0.844343 -0.443952 -0.125331  \n",
       "chlorides                         0.186175  0.257125 -0.348795 -0.227166  \n",
       "total sulfur dioxide              1.000000  0.527297 -0.461712 -0.189732  \n",
       "density                           0.527297  1.000000 -0.774066 -0.327974  "
      ]
     },
     "execution_count": 46,
     "metadata": {},
     "output_type": "execute_result"
    }
   ],
   "source": [
    "correlation_final = correlation_final.corr(method = 'pearson')\n",
    "correlation_final.head()"
   ]
  },
  {
   "cell_type": "code",
   "execution_count": 47,
   "metadata": {},
   "outputs": [
    {
     "data": {
      "text/plain": [
       "<AxesSubplot:>"
      ]
     },
     "execution_count": 47,
     "metadata": {},
     "output_type": "execute_result"
    },
    {
     "data": {
      "image/png": "[encoded data removed]",
      "text/plain": [
       "<Figure size 504x504 with 2 Axes>"
      ]
     },
     "metadata": {
      "needs_background": "light"
     },
     "output_type": "display_data"
    }
   ],
   "source": [
    "plt.figure(figsize=(7,7))\n",
    "sns.heatmap(correlation_final, vmax=1, square=True, annot=True, cmap='viridis')"
   ]
  },
  {
   "cell_type": "markdown",
   "metadata": {},
   "source": [
    "Alcohol and density are highly correlated (negative correlation). Density can be removed.\n",
    "<br> Residual sugar is highly correlated with density, medium correlated with alcohol and low correlated with the target variable. Residual sugar can be removed."
   ]
  },
  {
   "cell_type": "markdown",
   "metadata": {},
   "source": [
    "<b>With feature engineering the data set was reduced from 4.898 observations to 4.284.\n",
    "<br><br>With dimensionality reduction the data set was reduced from 11 features to 4 features.\n",
    "<br><br>Initial dimension of data set: 53.878 items -> actual data set: 17.136 items"
   ]
  },
  {
   "cell_type": "markdown",
   "metadata": {},
   "source": [
    "### Data set after feature engineering and dimensionality reduction"
   ]
  },
  {
   "cell_type": "code",
   "execution_count": 48,
   "metadata": {},
   "outputs": [
    {
     "data": {
      "text/html": [
       "<div>\n",
       "<style scoped>\n",
       "    .dataframe tbody tr th:only-of-type {\n",
       "        vertical-align: middle;\n",
       "    }\n",
       "\n",
       "    .dataframe tbody tr th {\n",
       "        vertical-align: top;\n",
       "    }\n",
       "\n",
       "    .dataframe thead th {\n",
       "        text-align: right;\n",
       "    }\n",
       "</style>\n",
       "<table border=\"1\" class=\"dataframe\">\n",
       "  <thead>\n",
       "    <tr style=\"text-align: right;\">\n",
       "      <th></th>\n",
       "      <th>volatile acidity</th>\n",
       "      <th>chlorides</th>\n",
       "      <th>total sulfur dioxide</th>\n",
       "      <th>alcohol</th>\n",
       "    </tr>\n",
       "  </thead>\n",
       "  <tbody>\n",
       "    <tr>\n",
       "      <th>2750</th>\n",
       "      <td>0.17</td>\n",
       "      <td>0.045</td>\n",
       "      <td>170.0</td>\n",
       "      <td>11.8</td>\n",
       "    </tr>\n",
       "    <tr>\n",
       "      <th>4039</th>\n",
       "      <td>1.10</td>\n",
       "      <td>0.033</td>\n",
       "      <td>109.0</td>\n",
       "      <td>12.4</td>\n",
       "    </tr>\n",
       "    <tr>\n",
       "      <th>2884</th>\n",
       "      <td>0.28</td>\n",
       "      <td>0.032</td>\n",
       "      <td>114.0</td>\n",
       "      <td>12.8</td>\n",
       "    </tr>\n",
       "    <tr>\n",
       "      <th>418</th>\n",
       "      <td>0.21</td>\n",
       "      <td>0.041</td>\n",
       "      <td>99.0</td>\n",
       "      <td>9.8</td>\n",
       "    </tr>\n",
       "    <tr>\n",
       "      <th>3614</th>\n",
       "      <td>0.38</td>\n",
       "      <td>0.047</td>\n",
       "      <td>151.0</td>\n",
       "      <td>9.2</td>\n",
       "    </tr>\n",
       "  </tbody>\n",
       "</table>\n",
       "</div>"
      ],
      "text/plain": [
       "      volatile acidity  chlorides  total sulfur dioxide  alcohol\n",
       "2750              0.17      0.045                 170.0     11.8\n",
       "4039              1.10      0.033                 109.0     12.4\n",
       "2884              0.28      0.032                 114.0     12.8\n",
       "418               0.21      0.041                  99.0      9.8\n",
       "3614              0.38      0.047                 151.0      9.2"
      ]
     },
     "execution_count": 48,
     "metadata": {},
     "output_type": "execute_result"
    }
   ],
   "source": [
    "df_x_train = df_x_train.drop(['density', 'residual sugar'], axis=1)\n",
    "df_x_train.head()"
   ]
  },
  {
   "cell_type": "markdown",
   "metadata": {},
   "source": [
    "## Determining strategy and choosing the models"
   ]
  },
  {
   "cell_type": "markdown",
   "metadata": {},
   "source": [
    "I\\`m implementing models with 2 features, 3 features and 4 features to see the results. I will start with the most correlated features with the target variable. Depending on the results, I will use cross-validation techniques to see what is the model with the optimum bias-variance tradeoff. \n",
    "<br><br>\n",
    "The models for classification: <b>Support Vector Machine, Decision Tree and Random Forest</b>\n",
    "<br><br>\n",
    "<b>Support Vector Machine classifier</b> uses a hyperplane in multidimensional space, to separate the data points from different classes. The best hyperplane has the largest amount of margin (the distance between the hyperplane and the closest data points(support vectors)). \n",
    "<br>For non-linear or inseparable planes sklearn uses kernel functions to transform the input space into a higher dimensional space: polynomial (the degree of the polynomial is chosen iteratively), radial basis function (gamma parameter ranges from 0 to 1).\n",
    "<br><br>\n",
    "<b>Decision Tree</b> splits the data set into subsets (segments or regions) according to a parameter and is building a tree of nodes (root node, children nodes and leaf nodes - the terminal nodes that predict the outcome of the decision tree). The nodes architecture depends on determining the best feature/atribute from all features, that best splits the data set into subsets. The selection for the best features is made using different techniques: gini impurity, information gain, etc.\n",
    "<br><br>\n",
    "<b>Random Forest</b> builds a complex forest of decision trees and selects in the process random subsets of features. The output of Random Forest classifier is the class selected by most trees. (I bet it will be the best model for our classification task)."
   ]
  },
  {
   "cell_type": "markdown",
   "metadata": {},
   "source": [
    "## Implementing the models"
   ]
  },
  {
   "cell_type": "markdown",
   "metadata": {},
   "source": [
    "<b>The labels/classes from quality of wine"
   ]
  },
  {
   "cell_type": "code",
   "execution_count": 49,
   "metadata": {},
   "outputs": [
    {
     "name": "stdout",
     "output_type": "stream",
     "text": [
      "Labels/Classes are:  [3 4 5 6 7 8 9]\n"
     ]
    }
   ],
   "source": [
    "classes = np.unique(y_train)\n",
    "print('Labels/Classes are: ', classes)"
   ]
  },
  {
   "cell_type": "markdown",
   "metadata": {},
   "source": [
    "### Random Forest classification with 2 features"
   ]
  },
  {
   "cell_type": "code",
   "execution_count": 50,
   "metadata": {},
   "outputs": [
    {
     "data": {
      "text/html": [
       "<div>\n",
       "<style scoped>\n",
       "    .dataframe tbody tr th:only-of-type {\n",
       "        vertical-align: middle;\n",
       "    }\n",
       "\n",
       "    .dataframe tbody tr th {\n",
       "        vertical-align: top;\n",
       "    }\n",
       "\n",
       "    .dataframe thead th {\n",
       "        text-align: right;\n",
       "    }\n",
       "</style>\n",
       "<table border=\"1\" class=\"dataframe\">\n",
       "  <thead>\n",
       "    <tr style=\"text-align: right;\">\n",
       "      <th></th>\n",
       "      <th>chlorides</th>\n",
       "      <th>alcohol</th>\n",
       "    </tr>\n",
       "  </thead>\n",
       "  <tbody>\n",
       "    <tr>\n",
       "      <th>2750</th>\n",
       "      <td>0.045</td>\n",
       "      <td>11.8</td>\n",
       "    </tr>\n",
       "    <tr>\n",
       "      <th>4039</th>\n",
       "      <td>0.033</td>\n",
       "      <td>12.4</td>\n",
       "    </tr>\n",
       "    <tr>\n",
       "      <th>2884</th>\n",
       "      <td>0.032</td>\n",
       "      <td>12.8</td>\n",
       "    </tr>\n",
       "    <tr>\n",
       "      <th>418</th>\n",
       "      <td>0.041</td>\n",
       "      <td>9.8</td>\n",
       "    </tr>\n",
       "    <tr>\n",
       "      <th>3614</th>\n",
       "      <td>0.047</td>\n",
       "      <td>9.2</td>\n",
       "    </tr>\n",
       "  </tbody>\n",
       "</table>\n",
       "</div>"
      ],
      "text/plain": [
       "      chlorides  alcohol\n",
       "2750      0.045     11.8\n",
       "4039      0.033     12.4\n",
       "2884      0.032     12.8\n",
       "418       0.041      9.8\n",
       "3614      0.047      9.2"
      ]
     },
     "execution_count": 50,
     "metadata": {},
     "output_type": "execute_result"
    }
   ],
   "source": [
    "df_x_train_2f = df_x_train.drop(['volatile acidity', 'total sulfur dioxide'], axis=1)\n",
    "df_x_train_2f.head()"
   ]
  },
  {
   "cell_type": "code",
   "execution_count": 51,
   "metadata": {},
   "outputs": [],
   "source": [
    "x_train_2f = df_x_train_2f.to_numpy()"
   ]
  },
  {
   "cell_type": "code",
   "execution_count": 52,
   "metadata": {},
   "outputs": [
    {
     "data": {
      "text/html": [
       "<div>\n",
       "<style scoped>\n",
       "    .dataframe tbody tr th:only-of-type {\n",
       "        vertical-align: middle;\n",
       "    }\n",
       "\n",
       "    .dataframe tbody tr th {\n",
       "        vertical-align: top;\n",
       "    }\n",
       "\n",
       "    .dataframe thead th {\n",
       "        text-align: right;\n",
       "    }\n",
       "</style>\n",
       "<table border=\"1\" class=\"dataframe\">\n",
       "  <thead>\n",
       "    <tr style=\"text-align: right;\">\n",
       "      <th></th>\n",
       "      <th>chlorides</th>\n",
       "      <th>alcohol</th>\n",
       "    </tr>\n",
       "  </thead>\n",
       "  <tbody>\n",
       "    <tr>\n",
       "      <th>2229</th>\n",
       "      <td>0.034</td>\n",
       "      <td>11.5</td>\n",
       "    </tr>\n",
       "    <tr>\n",
       "      <th>3595</th>\n",
       "      <td>0.031</td>\n",
       "      <td>12.1</td>\n",
       "    </tr>\n",
       "    <tr>\n",
       "      <th>4525</th>\n",
       "      <td>0.058</td>\n",
       "      <td>11.7</td>\n",
       "    </tr>\n",
       "    <tr>\n",
       "      <th>4079</th>\n",
       "      <td>0.052</td>\n",
       "      <td>10.4</td>\n",
       "    </tr>\n",
       "    <tr>\n",
       "      <th>1333</th>\n",
       "      <td>0.034</td>\n",
       "      <td>12.6</td>\n",
       "    </tr>\n",
       "  </tbody>\n",
       "</table>\n",
       "</div>"
      ],
      "text/plain": [
       "      chlorides  alcohol\n",
       "2229      0.034     11.5\n",
       "3595      0.031     12.1\n",
       "4525      0.058     11.7\n",
       "4079      0.052     10.4\n",
       "1333      0.034     12.6"
      ]
     },
     "execution_count": 52,
     "metadata": {},
     "output_type": "execute_result"
    }
   ],
   "source": [
    "df_x_test_2f = df_x_test.drop(['fixed acidity','citric acid', 'free sulfur dioxide', 'pH', 'sulphates', 'density', 'residual sugar', 'volatile acidity', 'total sulfur dioxide'], axis=1)\n",
    "df_x_test_2f.head()"
   ]
  },
  {
   "cell_type": "code",
   "execution_count": 53,
   "metadata": {},
   "outputs": [],
   "source": [
    "x_test_2f = df_x_test_2f.to_numpy()"
   ]
  },
  {
   "cell_type": "code",
   "execution_count": 54,
   "metadata": {},
   "outputs": [
    {
     "data": {
      "text/plain": [
       "RandomForestClassifier(n_estimators=250, random_state=42)"
      ]
     },
     "execution_count": 54,
     "metadata": {},
     "output_type": "execute_result"
    }
   ],
   "source": [
    "rf_2f = RandomForestClassifier(n_estimators=250, random_state=42) \n",
    "rf_2f.fit(x_train_2f, y_train)"
   ]
  },
  {
   "cell_type": "code",
   "execution_count": 55,
   "metadata": {},
   "outputs": [],
   "source": [
    "y_train_pred_2f = rf_2f.predict(x_train_2f)\n",
    "y_test_pred_2f = rf_2f.predict(x_test_2f)"
   ]
  },
  {
   "cell_type": "markdown",
   "metadata": {},
   "source": [
    "<b>Visualizing the model"
   ]
  },
  {
   "cell_type": "code",
   "execution_count": 56,
   "metadata": {},
   "outputs": [],
   "source": [
    "df_y_train_pred_2f = pd.DataFrame(y_train_pred_2f)\n",
    "df_y_train_pred_2f.columns = list(df_y_train.columns)\n",
    "df_2f = pd.concat([df_x_train_2f, df_y_train_pred_2f], axis = 1)"
   ]
  },
  {
   "cell_type": "code",
   "execution_count": 57,
   "metadata": {},
   "outputs": [
    {
     "data": {
      "image/png": "[encoded data removed]",
      "text/plain": [
       "<Figure size 1080x1080 with 1 Axes>"
      ]
     },
     "metadata": {
      "needs_background": "light"
     },
     "output_type": "display_data"
    }
   ],
   "source": [
    "fig = plt.figure(figsize=(15,15))\n",
    "ax = fig.add_subplot(111, projection='3d')\n",
    "\n",
    "ax.set_xlabel('Chlorides')\n",
    "ax.set_ylabel('Alcohol')\n",
    "ax.set_zlabel('Quality')\n",
    "ax.set_title('Random Forrest classification - 2 features')\n",
    "\n",
    "categories = np.unique(df_y_train)\n",
    "colors = ['r', 'g', 'b', 'c', 'm', 'y', 'b']\n",
    "for labels, colors in zip(categories,colors):\n",
    "    target_labels = df_2f['quality'] == labels\n",
    "    ax.scatter(df_2f.loc[target_labels, 'chlorides'], \n",
    "               df_2f.loc[target_labels, 'alcohol'], \n",
    "               df_2f.loc[target_labels, 'quality'], \n",
    "               c = colors, \n",
    "               s = 50)\n",
    "    \n",
    "ax.legend(categories)\n",
    "ax.grid()"
   ]
  },
  {
   "cell_type": "markdown",
   "metadata": {},
   "source": [
    "<b>Checking the accuracy of the model"
   ]
  },
  {
   "cell_type": "code",
   "execution_count": 58,
   "metadata": {},
   "outputs": [
    {
     "name": "stdout",
     "output_type": "stream",
     "text": [
      "Score for train data:  0.7535023348899266\n",
      "Score for test data:  0.5\n"
     ]
    }
   ],
   "source": [
    "print(\"Score for train data: \", rf_2f.score(x_train_2f, y_train))\n",
    "print(\"Score for test data: \", rf_2f.score(x_test_2f, y_test))"
   ]
  },
  {
   "cell_type": "code",
   "execution_count": 59,
   "metadata": {},
   "outputs": [
    {
     "data": {
      "text/plain": [
       "array([[  0,   0,   0,   4,   1,   0,   0],\n",
       "       [  0,   1,  13,  18,   3,   1,   0],\n",
       "       [  0,   9, 199, 158,  18,  11,   0],\n",
       "       [  1,   6, 127, 334,  88,  13,   1],\n",
       "       [  1,   1,  19, 104,  98,   5,   0],\n",
       "       [  0,   5,   3,  15,  16,  11,   0],\n",
       "       [  0,   0,   0,   1,   1,   0,   0]], dtype=int64)"
      ]
     },
     "execution_count": 59,
     "metadata": {},
     "output_type": "execute_result"
    }
   ],
   "source": [
    "cm_2f = confusion_matrix(y_test, y_test_pred_2f)\n",
    "cm_2f"
   ]
  },
  {
   "cell_type": "code",
   "execution_count": 60,
   "metadata": {},
   "outputs": [
    {
     "data": {
      "text/plain": [
       "Text(51.0, 0.5, 'Truth')"
      ]
     },
     "execution_count": 60,
     "metadata": {},
     "output_type": "execute_result"
    },
    {
     "data": {
      "image/png": "[encoded data removed]",
      "text/plain": [
       "<Figure size 576x576 with 2 Axes>"
      ]
     },
     "metadata": {
      "needs_background": "light"
     },
     "output_type": "display_data"
    }
   ],
   "source": [
    "plt.figure(figsize=(8,8))\n",
    "sns.heatmap(cm_2f, square=True, annot=True, fmt=\"d\", cmap='viridis')\n",
    "plt.xlabel('Predicted')\n",
    "plt.ylabel('Truth')"
   ]
  },
  {
   "cell_type": "code",
   "execution_count": 61,
   "metadata": {},
   "outputs": [
    {
     "data": {
      "text/plain": [
       "array([8], dtype=int64)"
      ]
     },
     "execution_count": 61,
     "metadata": {},
     "output_type": "execute_result"
    }
   ],
   "source": [
    "rf_2f.predict([[0.06, 12.8]])"
   ]
  },
  {
   "cell_type": "markdown",
   "metadata": {},
   "source": [
    "### Decision Tree classification with 2 features"
   ]
  },
  {
   "cell_type": "markdown",
   "metadata": {},
   "source": [
    "To get the best score and the best bias-variance tradeoff from the model, I used iteratively the criterion parameter (gini or entropy) and the max_depth parameter (the depth of the tree)."
   ]
  },
  {
   "cell_type": "code",
   "execution_count": 62,
   "metadata": {},
   "outputs": [
    {
     "data": {
      "text/plain": [
       "DecisionTreeClassifier(criterion='entropy', max_depth=4, random_state=42)"
      ]
     },
     "execution_count": 62,
     "metadata": {},
     "output_type": "execute_result"
    }
   ],
   "source": [
    "dt_2f = tree.DecisionTreeClassifier(criterion='entropy', random_state=42, max_depth=4)\n",
    "dt_2f.fit(x_train_2f, y_train)"
   ]
  },
  {
   "cell_type": "code",
   "execution_count": 63,
   "metadata": {},
   "outputs": [
    {
     "name": "stdout",
     "output_type": "stream",
     "text": [
      "Score for train data:  0.5110073382254836\n",
      "Score for test data:  0.5139968895800933\n"
     ]
    }
   ],
   "source": [
    "print(\"Score for train data: \", dt_2f.score(x_train_2f, y_train))\n",
    "print(\"Score for test data: \", dt_2f.score(x_test_2f, y_test))"
   ]
  },
  {
   "cell_type": "markdown",
   "metadata": {},
   "source": [
    "### SVM classification with 2 features"
   ]
  },
  {
   "cell_type": "markdown",
   "metadata": {},
   "source": [
    "To get the best score and the best bias-variance tradeoff I used iteratively the kernel parameter (linear, poly, default = rbf). For polynomial the degree must be specified and for rbf, gamma parameter must be specified."
   ]
  },
  {
   "cell_type": "code",
   "execution_count": 64,
   "metadata": {},
   "outputs": [
    {
     "data": {
      "text/plain": [
       "SVC(C=1, gamma=0.2, random_state=42)"
      ]
     },
     "execution_count": 64,
     "metadata": {},
     "output_type": "execute_result"
    }
   ],
   "source": [
    "svm_2f = SVC(gamma=0.2, C=1, random_state=42)\n",
    "svm_2f.fit(x_train_2f, y_train)"
   ]
  },
  {
   "cell_type": "code",
   "execution_count": 65,
   "metadata": {},
   "outputs": [
    {
     "name": "stdout",
     "output_type": "stream",
     "text": [
      "Score for train data:  0.5096731154102735\n",
      "Score for test data:  0.52099533437014\n"
     ]
    }
   ],
   "source": [
    "print(\"Score for train data: \", svm_2f.score(x_train_2f, y_train))\n",
    "print(\"Score for test data: \", svm_2f.score(x_test_2f, y_test))"
   ]
  },
  {
   "cell_type": "markdown",
   "metadata": {},
   "source": [
    "### Random Forest classification with 3 features"
   ]
  },
  {
   "cell_type": "code",
   "execution_count": 66,
   "metadata": {},
   "outputs": [
    {
     "data": {
      "text/html": [
       "<div>\n",
       "<style scoped>\n",
       "    .dataframe tbody tr th:only-of-type {\n",
       "        vertical-align: middle;\n",
       "    }\n",
       "\n",
       "    .dataframe tbody tr th {\n",
       "        vertical-align: top;\n",
       "    }\n",
       "\n",
       "    .dataframe thead th {\n",
       "        text-align: right;\n",
       "    }\n",
       "</style>\n",
       "<table border=\"1\" class=\"dataframe\">\n",
       "  <thead>\n",
       "    <tr style=\"text-align: right;\">\n",
       "      <th></th>\n",
       "      <th>volatile acidity</th>\n",
       "      <th>chlorides</th>\n",
       "      <th>alcohol</th>\n",
       "    </tr>\n",
       "  </thead>\n",
       "  <tbody>\n",
       "    <tr>\n",
       "      <th>2750</th>\n",
       "      <td>0.17</td>\n",
       "      <td>0.045</td>\n",
       "      <td>11.8</td>\n",
       "    </tr>\n",
       "    <tr>\n",
       "      <th>4039</th>\n",
       "      <td>1.10</td>\n",
       "      <td>0.033</td>\n",
       "      <td>12.4</td>\n",
       "    </tr>\n",
       "    <tr>\n",
       "      <th>2884</th>\n",
       "      <td>0.28</td>\n",
       "      <td>0.032</td>\n",
       "      <td>12.8</td>\n",
       "    </tr>\n",
       "    <tr>\n",
       "      <th>418</th>\n",
       "      <td>0.21</td>\n",
       "      <td>0.041</td>\n",
       "      <td>9.8</td>\n",
       "    </tr>\n",
       "    <tr>\n",
       "      <th>3614</th>\n",
       "      <td>0.38</td>\n",
       "      <td>0.047</td>\n",
       "      <td>9.2</td>\n",
       "    </tr>\n",
       "  </tbody>\n",
       "</table>\n",
       "</div>"
      ],
      "text/plain": [
       "      volatile acidity  chlorides  alcohol\n",
       "2750              0.17      0.045     11.8\n",
       "4039              1.10      0.033     12.4\n",
       "2884              0.28      0.032     12.8\n",
       "418               0.21      0.041      9.8\n",
       "3614              0.38      0.047      9.2"
      ]
     },
     "execution_count": 66,
     "metadata": {},
     "output_type": "execute_result"
    }
   ],
   "source": [
    "df_x_train_3f = df_x_train.drop(['total sulfur dioxide'], axis=1)\n",
    "df_x_train_3f.head()"
   ]
  },
  {
   "cell_type": "code",
   "execution_count": 67,
   "metadata": {},
   "outputs": [],
   "source": [
    "x_train_3f = df_x_train_3f.to_numpy()"
   ]
  },
  {
   "cell_type": "code",
   "execution_count": 68,
   "metadata": {},
   "outputs": [
    {
     "data": {
      "text/html": [
       "<div>\n",
       "<style scoped>\n",
       "    .dataframe tbody tr th:only-of-type {\n",
       "        vertical-align: middle;\n",
       "    }\n",
       "\n",
       "    .dataframe tbody tr th {\n",
       "        vertical-align: top;\n",
       "    }\n",
       "\n",
       "    .dataframe thead th {\n",
       "        text-align: right;\n",
       "    }\n",
       "</style>\n",
       "<table border=\"1\" class=\"dataframe\">\n",
       "  <thead>\n",
       "    <tr style=\"text-align: right;\">\n",
       "      <th></th>\n",
       "      <th>volatile acidity</th>\n",
       "      <th>chlorides</th>\n",
       "      <th>alcohol</th>\n",
       "    </tr>\n",
       "  </thead>\n",
       "  <tbody>\n",
       "    <tr>\n",
       "      <th>2229</th>\n",
       "      <td>0.250</td>\n",
       "      <td>0.034</td>\n",
       "      <td>11.5</td>\n",
       "    </tr>\n",
       "    <tr>\n",
       "      <th>3595</th>\n",
       "      <td>0.160</td>\n",
       "      <td>0.031</td>\n",
       "      <td>12.1</td>\n",
       "    </tr>\n",
       "    <tr>\n",
       "      <th>4525</th>\n",
       "      <td>0.130</td>\n",
       "      <td>0.058</td>\n",
       "      <td>11.7</td>\n",
       "    </tr>\n",
       "    <tr>\n",
       "      <th>4079</th>\n",
       "      <td>0.265</td>\n",
       "      <td>0.052</td>\n",
       "      <td>10.4</td>\n",
       "    </tr>\n",
       "    <tr>\n",
       "      <th>1333</th>\n",
       "      <td>0.210</td>\n",
       "      <td>0.034</td>\n",
       "      <td>12.6</td>\n",
       "    </tr>\n",
       "  </tbody>\n",
       "</table>\n",
       "</div>"
      ],
      "text/plain": [
       "      volatile acidity  chlorides  alcohol\n",
       "2229             0.250      0.034     11.5\n",
       "3595             0.160      0.031     12.1\n",
       "4525             0.130      0.058     11.7\n",
       "4079             0.265      0.052     10.4\n",
       "1333             0.210      0.034     12.6"
      ]
     },
     "execution_count": 68,
     "metadata": {},
     "output_type": "execute_result"
    }
   ],
   "source": [
    "df_x_test_3f = df_x_test.drop(['fixed acidity','citric acid', 'free sulfur dioxide', 'pH', 'sulphates', 'density', 'residual sugar', 'total sulfur dioxide'], axis=1)\n",
    "df_x_test_3f.head()"
   ]
  },
  {
   "cell_type": "code",
   "execution_count": 69,
   "metadata": {},
   "outputs": [],
   "source": [
    "x_test_3f = df_x_test_3f.to_numpy()"
   ]
  },
  {
   "cell_type": "code",
   "execution_count": 70,
   "metadata": {},
   "outputs": [
    {
     "data": {
      "text/plain": [
       "RandomForestClassifier(n_estimators=300, random_state=42)"
      ]
     },
     "execution_count": 70,
     "metadata": {},
     "output_type": "execute_result"
    }
   ],
   "source": [
    "rf_3f = RandomForestClassifier(n_estimators=300, random_state=42) \n",
    "rf_3f.fit(x_train_3f, y_train)"
   ]
  },
  {
   "cell_type": "code",
   "execution_count": 71,
   "metadata": {},
   "outputs": [],
   "source": [
    "y_train_pred_3f = rf_3f.predict(x_train_3f)\n",
    "y_test_pred_3f = rf_3f.predict(x_test_3f)"
   ]
  },
  {
   "cell_type": "markdown",
   "metadata": {},
   "source": [
    "<b>Checking the accuracy of the model"
   ]
  },
  {
   "cell_type": "code",
   "execution_count": 72,
   "metadata": {},
   "outputs": [
    {
     "name": "stdout",
     "output_type": "stream",
     "text": [
      "Score for train data:  0.985657104736491\n",
      "Score for test data:  0.6267496111975117\n"
     ]
    }
   ],
   "source": [
    "print(\"Score for train data: \", rf_3f.score(x_train_3f, y_train))\n",
    "print(\"Score for test data: \", rf_3f.score(x_test_3f, y_test))"
   ]
  },
  {
   "cell_type": "code",
   "execution_count": 73,
   "metadata": {},
   "outputs": [
    {
     "data": {
      "text/plain": [
       "array([[  0,   0,   3,   2,   0,   0,   0],\n",
       "       [  0,   4,  14,  17,   1,   0,   0],\n",
       "       [  0,   4, 259, 120,  10,   2,   0],\n",
       "       [  0,   1,  93, 398,  72,   6,   0],\n",
       "       [  0,   1,   8,  88, 127,   4,   0],\n",
       "       [  0,   0,   2,  11,  19,  18,   0],\n",
       "       [  0,   0,   0,   1,   1,   0,   0]], dtype=int64)"
      ]
     },
     "execution_count": 73,
     "metadata": {},
     "output_type": "execute_result"
    }
   ],
   "source": [
    "cm_3f = confusion_matrix(y_test, y_test_pred_3f)\n",
    "cm_3f"
   ]
  },
  {
   "cell_type": "code",
   "execution_count": 74,
   "metadata": {},
   "outputs": [
    {
     "data": {
      "text/plain": [
       "<AxesSubplot:>"
      ]
     },
     "execution_count": 74,
     "metadata": {},
     "output_type": "execute_result"
    },
    {
     "data": {
      "image/png": "[encoded data removed]",
      "text/plain": [
       "<Figure size 576x576 with 2 Axes>"
      ]
     },
     "metadata": {
      "needs_background": "light"
     },
     "output_type": "display_data"
    }
   ],
   "source": [
    "plt.figure(figsize=(8,8))\n",
    "sns.heatmap(cm_3f, square=True, annot=True, fmt=\"d\", cmap='viridis')"
   ]
  },
  {
   "cell_type": "code",
   "execution_count": 75,
   "metadata": {},
   "outputs": [
    {
     "data": {
      "text/plain": [
       "array([6], dtype=int64)"
      ]
     },
     "execution_count": 75,
     "metadata": {},
     "output_type": "execute_result"
    }
   ],
   "source": [
    "rf_3f.predict([[0.06, 0.08, 12.8]])"
   ]
  },
  {
   "cell_type": "markdown",
   "metadata": {},
   "source": [
    "### Decision Tree classification with 3 features"
   ]
  },
  {
   "cell_type": "code",
   "execution_count": 76,
   "metadata": {},
   "outputs": [
    {
     "data": {
      "text/plain": [
       "DecisionTreeClassifier(max_depth=5, random_state=42)"
      ]
     },
     "execution_count": 76,
     "metadata": {},
     "output_type": "execute_result"
    }
   ],
   "source": [
    "dt_3f = tree.DecisionTreeClassifier(criterion='gini', random_state=42, max_depth=5)\n",
    "dt_3f.fit(x_train_3f, y_train)"
   ]
  },
  {
   "cell_type": "code",
   "execution_count": 77,
   "metadata": {},
   "outputs": [
    {
     "name": "stdout",
     "output_type": "stream",
     "text": [
      "Score for train data:  0.5683789192795197\n",
      "Score for test data:  0.5373250388802489\n"
     ]
    }
   ],
   "source": [
    "print(\"Score for train data: \", dt_3f.score(x_train_3f, y_train))\n",
    "print(\"Score for test data: \", dt_3f.score(x_test_3f, y_test))"
   ]
  },
  {
   "cell_type": "markdown",
   "metadata": {},
   "source": [
    "### SVM classification with 3 features"
   ]
  },
  {
   "cell_type": "code",
   "execution_count": 78,
   "metadata": {},
   "outputs": [
    {
     "data": {
      "text/plain": [
       "SVC(C=1, gamma=0.2, random_state=42)"
      ]
     },
     "execution_count": 78,
     "metadata": {},
     "output_type": "execute_result"
    }
   ],
   "source": [
    "svm_3f = SVC(gamma=0.2, C=1, random_state=42)\n",
    "svm_3f.fit(x_train_3f, y_train)"
   ]
  },
  {
   "cell_type": "code",
   "execution_count": 79,
   "metadata": {},
   "outputs": [
    {
     "name": "stdout",
     "output_type": "stream",
     "text": [
      "Score for train data:  0.5203468979319547\n",
      "Score for test data:  0.526438569206843\n"
     ]
    }
   ],
   "source": [
    "print(\"Score for train data: \", svm_3f.score(x_train_3f, y_train))\n",
    "print(\"Score for test data: \", svm_3f.score(x_test_3f, y_test))"
   ]
  },
  {
   "cell_type": "markdown",
   "metadata": {},
   "source": [
    "### Random Forest classification with 4 features"
   ]
  },
  {
   "cell_type": "code",
   "execution_count": 80,
   "metadata": {},
   "outputs": [],
   "source": [
    "df_x_train_4f = df_x_train\n",
    "x_train_4f = df_x_train_4f.to_numpy()"
   ]
  },
  {
   "cell_type": "code",
   "execution_count": 81,
   "metadata": {},
   "outputs": [
    {
     "data": {
      "text/html": [
       "<div>\n",
       "<style scoped>\n",
       "    .dataframe tbody tr th:only-of-type {\n",
       "        vertical-align: middle;\n",
       "    }\n",
       "\n",
       "    .dataframe tbody tr th {\n",
       "        vertical-align: top;\n",
       "    }\n",
       "\n",
       "    .dataframe thead th {\n",
       "        text-align: right;\n",
       "    }\n",
       "</style>\n",
       "<table border=\"1\" class=\"dataframe\">\n",
       "  <thead>\n",
       "    <tr style=\"text-align: right;\">\n",
       "      <th></th>\n",
       "      <th>volatile acidity</th>\n",
       "      <th>chlorides</th>\n",
       "      <th>total sulfur dioxide</th>\n",
       "      <th>alcohol</th>\n",
       "    </tr>\n",
       "  </thead>\n",
       "  <tbody>\n",
       "    <tr>\n",
       "      <th>2229</th>\n",
       "      <td>0.250</td>\n",
       "      <td>0.034</td>\n",
       "      <td>150.0</td>\n",
       "      <td>11.5</td>\n",
       "    </tr>\n",
       "    <tr>\n",
       "      <th>3595</th>\n",
       "      <td>0.160</td>\n",
       "      <td>0.031</td>\n",
       "      <td>123.0</td>\n",
       "      <td>12.1</td>\n",
       "    </tr>\n",
       "    <tr>\n",
       "      <th>4525</th>\n",
       "      <td>0.130</td>\n",
       "      <td>0.058</td>\n",
       "      <td>183.0</td>\n",
       "      <td>11.7</td>\n",
       "    </tr>\n",
       "    <tr>\n",
       "      <th>4079</th>\n",
       "      <td>0.265</td>\n",
       "      <td>0.052</td>\n",
       "      <td>91.0</td>\n",
       "      <td>10.4</td>\n",
       "    </tr>\n",
       "    <tr>\n",
       "      <th>1333</th>\n",
       "      <td>0.210</td>\n",
       "      <td>0.034</td>\n",
       "      <td>180.0</td>\n",
       "      <td>12.6</td>\n",
       "    </tr>\n",
       "  </tbody>\n",
       "</table>\n",
       "</div>"
      ],
      "text/plain": [
       "      volatile acidity  chlorides  total sulfur dioxide  alcohol\n",
       "2229             0.250      0.034                 150.0     11.5\n",
       "3595             0.160      0.031                 123.0     12.1\n",
       "4525             0.130      0.058                 183.0     11.7\n",
       "4079             0.265      0.052                  91.0     10.4\n",
       "1333             0.210      0.034                 180.0     12.6"
      ]
     },
     "execution_count": 81,
     "metadata": {},
     "output_type": "execute_result"
    }
   ],
   "source": [
    "df_x_test_4f = df_x_test.drop(['fixed acidity','citric acid', 'free sulfur dioxide', 'pH', 'sulphates', 'density', 'residual sugar'], axis=1)\n",
    "df_x_test_4f.head()"
   ]
  },
  {
   "cell_type": "code",
   "execution_count": 82,
   "metadata": {},
   "outputs": [],
   "source": [
    "x_test_4f = df_x_test_4f.to_numpy()"
   ]
  },
  {
   "cell_type": "code",
   "execution_count": 83,
   "metadata": {},
   "outputs": [
    {
     "data": {
      "text/plain": [
       "RandomForestClassifier(n_estimators=170, random_state=42)"
      ]
     },
     "execution_count": 83,
     "metadata": {},
     "output_type": "execute_result"
    }
   ],
   "source": [
    "rf_4f = RandomForestClassifier(n_estimators=170, random_state = 42)\n",
    "rf_4f.fit(x_train_4f, y_train)"
   ]
  },
  {
   "cell_type": "code",
   "execution_count": 84,
   "metadata": {},
   "outputs": [],
   "source": [
    "y_train_pred_4f = rf_4f.predict(x_train_4f)\n",
    "y_test_pred_4f = rf_4f.predict(x_test_4f)"
   ]
  },
  {
   "cell_type": "markdown",
   "metadata": {},
   "source": [
    "<b>Checking the accuracy of the model"
   ]
  },
  {
   "cell_type": "code",
   "execution_count": 85,
   "metadata": {},
   "outputs": [
    {
     "name": "stdout",
     "output_type": "stream",
     "text": [
      "Score for train data:  1.0\n",
      "Score for test data:  0.6477449455676516\n"
     ]
    }
   ],
   "source": [
    "print(\"Score for train data: \", rf_4f.score(x_train_4f, y_train))\n",
    "print(\"Score for test data: \", rf_4f.score(x_test_4f, y_test))"
   ]
  },
  {
   "cell_type": "code",
   "execution_count": 86,
   "metadata": {},
   "outputs": [
    {
     "data": {
      "text/plain": [
       "array([[   5,    0,    0,    0,    0,    0,    0],\n",
       "       [   0,   92,    0,    0,    0,    0,    0],\n",
       "       [   0,    0,  860,    0,    0,    0,    0],\n",
       "       [   0,    0,    0, 1352,    0,    0,    0],\n",
       "       [   0,    0,    0,    0,  576,    0,    0],\n",
       "       [   0,    0,    0,    0,    0,  111,    0],\n",
       "       [   0,    0,    0,    0,    0,    0,    2]], dtype=int64)"
      ]
     },
     "execution_count": 86,
     "metadata": {},
     "output_type": "execute_result"
    }
   ],
   "source": [
    "cm_4f_train = confusion_matrix(y_train, y_train_pred_4f)\n",
    "cm_4f_train"
   ]
  },
  {
   "cell_type": "code",
   "execution_count": 87,
   "metadata": {},
   "outputs": [
    {
     "data": {
      "text/plain": [
       "<AxesSubplot:>"
      ]
     },
     "execution_count": 87,
     "metadata": {},
     "output_type": "execute_result"
    },
    {
     "data": {
      "image/png": "[encoded data removed]",
      "text/plain": [
       "<Figure size 576x576 with 2 Axes>"
      ]
     },
     "metadata": {
      "needs_background": "light"
     },
     "output_type": "display_data"
    }
   ],
   "source": [
    "plt.figure(figsize=(8,8))\n",
    "sns.heatmap(cm_4f_train, square=True, annot=True, fmt=\"d\", cmap='viridis')"
   ]
  },
  {
   "cell_type": "code",
   "execution_count": 88,
   "metadata": {},
   "outputs": [
    {
     "data": {
      "text/plain": [
       "array([[  0,   0,   3,   2,   0,   0,   0],\n",
       "       [  0,   5,  15,  16,   0,   0,   0],\n",
       "       [  0,   2, 263, 123,   7,   0,   0],\n",
       "       [  0,   0,  80, 419,  69,   2,   0],\n",
       "       [  0,   1,   3,  95, 128,   1,   0],\n",
       "       [  0,   0,   0,  17,  15,  18,   0],\n",
       "       [  0,   0,   0,   0,   2,   0,   0]], dtype=int64)"
      ]
     },
     "execution_count": 88,
     "metadata": {},
     "output_type": "execute_result"
    }
   ],
   "source": [
    "cm_4f = confusion_matrix(y_test, y_test_pred_4f)\n",
    "cm_4f"
   ]
  },
  {
   "cell_type": "code",
   "execution_count": 89,
   "metadata": {},
   "outputs": [
    {
     "data": {
      "text/plain": [
       "<AxesSubplot:>"
      ]
     },
     "execution_count": 89,
     "metadata": {},
     "output_type": "execute_result"
    },
    {
     "data": {
      "image/png": "[encoded data removed]",
      "text/plain": [
       "<Figure size 576x576 with 2 Axes>"
      ]
     },
     "metadata": {
      "needs_background": "light"
     },
     "output_type": "display_data"
    }
   ],
   "source": [
    "plt.figure(figsize=(8,8))\n",
    "sns.heatmap(cm_4f, square=True, annot=True, fmt=\"d\", cmap='viridis')"
   ]
  },
  {
   "cell_type": "code",
   "execution_count": 90,
   "metadata": {},
   "outputs": [
    {
     "data": {
      "text/plain": [
       "array([6], dtype=int64)"
      ]
     },
     "execution_count": 90,
     "metadata": {},
     "output_type": "execute_result"
    }
   ],
   "source": [
    "rf_4f.predict([[0.8, 0.015, 100, 11]])"
   ]
  },
  {
   "cell_type": "markdown",
   "metadata": {},
   "source": [
    "### Decision Tree classification with 4 features"
   ]
  },
  {
   "cell_type": "code",
   "execution_count": 91,
   "metadata": {},
   "outputs": [
    {
     "data": {
      "text/plain": [
       "DecisionTreeClassifier(criterion='entropy', max_depth=18, random_state=42)"
      ]
     },
     "execution_count": 91,
     "metadata": {},
     "output_type": "execute_result"
    }
   ],
   "source": [
    "dt_4f = tree.DecisionTreeClassifier(criterion='entropy', random_state=42, max_depth=18)\n",
    "dt_4f.fit(x_train_4f, y_train)"
   ]
  },
  {
   "cell_type": "code",
   "execution_count": 92,
   "metadata": {},
   "outputs": [
    {
     "name": "stdout",
     "output_type": "stream",
     "text": [
      "Score for train data:  0.9836557705136758\n",
      "Score for test data:  0.5917573872472783\n"
     ]
    }
   ],
   "source": [
    "print(\"Score for train data: \", dt_4f.score(x_train_4f, y_train))\n",
    "print(\"Score for test data: \", dt_4f.score(x_test_4f, y_test))"
   ]
  },
  {
   "cell_type": "markdown",
   "metadata": {},
   "source": [
    "### SVM classification with 4 features"
   ]
  },
  {
   "cell_type": "code",
   "execution_count": 93,
   "metadata": {},
   "outputs": [
    {
     "data": {
      "text/plain": [
       "SVC(C=1, gamma=0.2, random_state=42)"
      ]
     },
     "execution_count": 93,
     "metadata": {},
     "output_type": "execute_result"
    }
   ],
   "source": [
    "svm_4f = SVC(gamma=0.2, C=1, random_state=42)\n",
    "svm_4f.fit(x_train_4f, y_train)"
   ]
  },
  {
   "cell_type": "code",
   "execution_count": 94,
   "metadata": {},
   "outputs": [
    {
     "name": "stdout",
     "output_type": "stream",
     "text": [
      "Score for train data:  0.5683789192795197\n",
      "Score for test data:  0.5101088646967341\n"
     ]
    }
   ],
   "source": [
    "print(\"Score for train data: \", svm_4f.score(x_train_4f, y_train))\n",
    "print(\"Score for test data: \", svm_4f.score(x_test_4f, y_test))"
   ]
  },
  {
   "cell_type": "markdown",
   "metadata": {},
   "source": [
    "<b>The best model is Random Forest with 4 features: score for train data = 1.0, for test data = 0.6477\n",
    "<br><b>Second best model is Decision Tree with 4 features: score for train data = 0.9837, for test data = 0.5918\n",
    "<br><br><b>Because the performance of Random Forest for the test data is < 0.7, I\\`m using cross-validation techniques to see if the model can generalize beyond the training data set, to confirm the bias-variance tradeoff. "
   ]
  },
  {
   "cell_type": "markdown",
   "metadata": {},
   "source": [
    "## Cross validation"
   ]
  },
  {
   "cell_type": "markdown",
   "metadata": {},
   "source": [
    "### Preparing the data set for cross-validation techniques"
   ]
  },
  {
   "cell_type": "markdown",
   "metadata": {},
   "source": [
    "<b>Cross-validation is applied on all data set with relevant features. Depending on the value of k parameter (in sklearn: cv for cross-validation, n_splits for K-Fold) it splits the data set into k folds, each fold is being used once for test and k-1 times for training."
   ]
  },
  {
   "cell_type": "markdown",
   "metadata": {},
   "source": [
    "Preparing data set for cross-validation"
   ]
  },
  {
   "cell_type": "code",
   "execution_count": 95,
   "metadata": {},
   "outputs": [],
   "source": [
    "x_df_cv = df6.drop(['fixed acidity','citric acid', 'free sulfur dioxide', 'pH', 'sulphates', 'density', 'residual sugar', 'quality'], axis=1)\n",
    "y_df_cv = df6['quality']"
   ]
  },
  {
   "cell_type": "code",
   "execution_count": 96,
   "metadata": {},
   "outputs": [],
   "source": [
    "x_cv = x_df_cv.to_numpy()\n",
    "y_cv = y_df_cv.to_numpy()"
   ]
  },
  {
   "cell_type": "code",
   "execution_count": 97,
   "metadata": {},
   "outputs": [
    {
     "data": {
      "text/plain": [
       "((4284, 4), (4284,))"
      ]
     },
     "execution_count": 97,
     "metadata": {},
     "output_type": "execute_result"
    }
   ],
   "source": [
    "x_cv.shape, y_cv.shape"
   ]
  },
  {
   "cell_type": "markdown",
   "metadata": {},
   "source": [
    "### Cross validation"
   ]
  },
  {
   "cell_type": "code",
   "execution_count": 98,
   "metadata": {},
   "outputs": [
    {
     "name": "stdout",
     "output_type": "stream",
     "text": [
      "CV scores for Random Forest:  [0.44817927 0.49579832 0.52661064 0.51727358]\n",
      "CV scores for Decision Tree:  [0.37721755 0.410831   0.41456583 0.40709617]\n",
      "CV scores for SVM:  [0.44351074 0.44444444 0.52754435 0.50513539]\n",
      "CV Random Forest accuracy mean: 0.4969654528478058, std: 0.030301447632213603\n",
      "CV Decision Tree accuracy mean: 0.4024276377217554, std: 0.014792697962422843\n",
      "CV SVectorMachine accuracy mean: 0.4801587301587301, std: 0.037039897547945726\n"
     ]
    }
   ],
   "source": [
    "from sklearn.model_selection import cross_val_score\n",
    "\n",
    "rf_cv = RandomForestClassifier(n_estimators=170, random_state = 42)\n",
    "dt_cv = tree.DecisionTreeClassifier(criterion='entropy', random_state=42, max_depth=18)\n",
    "svm_cv = SVC(gamma=0.2, C=1, random_state=42)\n",
    "\n",
    "scores_rf = cross_val_score(rf_cv, x_cv, y_cv, cv=4)\n",
    "scores_dt = cross_val_score(dt_cv, x_cv, y_cv, cv=4)\n",
    "scores_svm = cross_val_score(svm_cv, x_cv, y_cv, cv=4)\n",
    "print(\"CV scores for Random Forest: \", scores_rf)\n",
    "print(\"CV scores for Decision Tree: \", scores_dt)\n",
    "print(\"CV scores for SVM: \", scores_svm)\n",
    "print('CV Random Forest accuracy mean: {0}, std: {1}'.format(np.mean(scores_rf), np.std(scores_rf)))\n",
    "print('CV Decision Tree accuracy mean: {0}, std: {1}'.format(np.mean(scores_dt), np.std(scores_dt)))\n",
    "print('CV SVectorMachine accuracy mean: {0}, std: {1}'.format(np.mean(scores_svm), np.std(scores_svm)))"
   ]
  },
  {
   "cell_type": "markdown",
   "metadata": {},
   "source": [
    "### K-Fold"
   ]
  },
  {
   "cell_type": "code",
   "execution_count": 99,
   "metadata": {},
   "outputs": [
    {
     "name": "stdout",
     "output_type": "stream",
     "text": [
      "KF scores for Random Forest: [0.6414565826330533, 0.642390289449113, 0.6451914098972923, 0.6591970121381886]\n",
      "KF scores for Decision Tree: [0.5695611577964519, 0.5714285714285714, 0.5910364145658263, 0.5910364145658263]\n",
      "KF scores for SVM: [0.5014005602240896, 0.5079365079365079, 0.5088702147525677, 0.49019607843137253]\n",
      "KF Random Forest accuracy mean: 0.6470588235294118, std: 0.007141483912594911\n",
      "KF Decision Tree accuracy mean: 0.580765639589169, std: 0.010291973709173036\n",
      "KF SVectorMachine accuracy mean: 0.5021008403361344, std: 0.00745139575140633\n"
     ]
    }
   ],
   "source": [
    "from sklearn.model_selection import KFold\n",
    "kf = KFold(n_splits=4, shuffle=True, random_state=42)\n",
    "\n",
    "rf_kf = RandomForestClassifier(n_estimators=170, random_state = 42)\n",
    "dt_kf = tree.DecisionTreeClassifier(criterion='entropy', random_state=42, max_depth=18)\n",
    "svm_kf = SVC(gamma=0.2, C=1, random_state=42)\n",
    "\n",
    "score_rf_kf = []\n",
    "score_dt_kf = []\n",
    "score_svm_kf = []\n",
    "  \n",
    "for train, test in kf.split(x_cv, y_cv):\n",
    "    x_train_kf, x_test_kf, y_train_kf, y_test_kf = x_cv[train], x_cv[test], y_cv[train], y_cv[test]\n",
    "    \n",
    "    rf_kf.fit(x_train_kf, y_train_kf)\n",
    "    dt_kf.fit(x_train_kf, y_train_kf)\n",
    "    svm_kf.fit(x_train_kf, y_train_kf)\n",
    "    score_rf_kf.append(rf_kf.score(x_test_kf, y_test_kf))\n",
    "    score_dt_kf.append(dt_kf.score(x_test_kf, y_test_kf))\n",
    "    score_svm_kf.append(svm_kf.score(x_test_kf, y_test_kf))\n",
    "  \n",
    "print('KF scores for Random Forest:', score_rf_kf)\n",
    "print('KF scores for Decision Tree:', score_dt_kf)\n",
    "print('KF scores for SVM:', score_svm_kf)\n",
    "print('KF Random Forest accuracy mean: {0}, std: {1}'.format(np.mean(score_rf_kf), np.std(score_rf_kf)))\n",
    "print('KF Decision Tree accuracy mean: {0}, std: {1}'.format(np.mean(score_dt_kf), np.std(score_dt_kf)))\n",
    "print('KF SVectorMachine accuracy mean: {0}, std: {1}'.format(np.mean(score_svm_kf), np.std(score_svm_kf)))"
   ]
  },
  {
   "cell_type": "markdown",
   "metadata": {},
   "source": [
    "### Stratified KFold"
   ]
  },
  {
   "cell_type": "code",
   "execution_count": 100,
   "metadata": {},
   "outputs": [
    {
     "name": "stdout",
     "output_type": "stream",
     "text": [
      "SKF scores for Random Forest:  [0.9197012138188608, 0.9178338001867413, 0.9056956115779645, 0.9159663865546218]\n",
      "SKF scores for Decision Tree:  [0.9066293183940243, 0.876750700280112, 0.8590102707749766, 0.8888888888888888]\n",
      "SKF scores for SVM:  [0.5480859010270775, 0.5303454715219421, 0.5424836601307189, 0.5424836601307189]\n",
      "SKF Random Forest accuracy mean: 0.9147992530345471, std: 0.005419321552868281\n",
      "SKF Decision Tree accuracy mean: 0.8828197945845004, std: 0.01737422415119366\n",
      "SKF SVectorMachine accuracy mean: 0.5408496732026143, std: 0.006481532855702539\n"
     ]
    }
   ],
   "source": [
    "from sklearn.model_selection import StratifiedKFold\n",
    "skf = StratifiedKFold(n_splits=4, shuffle=True, random_state=42)\n",
    "\n",
    "rf_skf = RandomForestClassifier(n_estimators=170, random_state = 42)\n",
    "dt_skf = tree.DecisionTreeClassifier(criterion='entropy', random_state=42, max_depth=18)\n",
    "svm_skf = SVC(gamma=0.2, C=1, random_state=42)\n",
    "\n",
    "score_rf_skf = []\n",
    "score_dt_skf = []\n",
    "score_svm_skf = []\n",
    "  \n",
    "for train, test in skf.split(x_cv, y_cv):\n",
    "    x_train_skf, x_test_skf, y_train_skf, y_test_skf = x_cv[train], x_cv[test], y_cv[train], y_cv[test]\n",
    "    \n",
    "    rf_skf.fit(x_train_skf, y_train_skf)\n",
    "    dt_skf.fit(x_train_skf, y_train_skf)\n",
    "    svm_skf.fit(x_train_skf, y_train_skf)\n",
    "    score_rf_skf.append(rf_kf.score(x_test_skf, y_test_skf))\n",
    "    score_dt_skf.append(dt_kf.score(x_test_skf, y_test_skf))\n",
    "    score_svm_skf.append(svm_kf.score(x_test_skf, y_test_skf))\n",
    "\n",
    "print('SKF scores for Random Forest: ', score_rf_skf)\n",
    "print('SKF scores for Decision Tree: ', score_dt_skf)\n",
    "print('SKF scores for SVM: ', score_svm_skf)\n",
    "print('SKF Random Forest accuracy mean: {0}, std: {1}'.format(np.mean(score_rf_skf), np.std(score_rf_skf)))\n",
    "print('SKF Decision Tree accuracy mean: {0}, std: {1}'.format(np.mean(score_dt_skf), np.std(score_dt_skf)))\n",
    "print('SKF SVectorMachine accuracy mean: {0}, std: {1}'.format(np.mean(score_svm_skf), np.std(score_svm_skf)))"
   ]
  },
  {
   "cell_type": "markdown",
   "metadata": {},
   "source": [
    "<b>Random Forest and Decision Tree have the best results.\n",
    "<br><br><b>I will choose Random Forest, because it is the best model for classification, so I will apply it on all data set. The relevant features for white wine classification are: volatile acidity, chlorides, total sulfur dioxide, alcohol."
   ]
  },
  {
   "cell_type": "markdown",
   "metadata": {},
   "source": [
    "## Final model"
   ]
  },
  {
   "cell_type": "code",
   "execution_count": 101,
   "metadata": {},
   "outputs": [
    {
     "data": {
      "text/html": [
       "<div>\n",
       "<style scoped>\n",
       "    .dataframe tbody tr th:only-of-type {\n",
       "        vertical-align: middle;\n",
       "    }\n",
       "\n",
       "    .dataframe tbody tr th {\n",
       "        vertical-align: top;\n",
       "    }\n",
       "\n",
       "    .dataframe thead th {\n",
       "        text-align: right;\n",
       "    }\n",
       "</style>\n",
       "<table border=\"1\" class=\"dataframe\">\n",
       "  <thead>\n",
       "    <tr style=\"text-align: right;\">\n",
       "      <th></th>\n",
       "      <th>volatile acidity</th>\n",
       "      <th>chlorides</th>\n",
       "      <th>total sulfur dioxide</th>\n",
       "      <th>alcohol</th>\n",
       "    </tr>\n",
       "  </thead>\n",
       "  <tbody>\n",
       "    <tr>\n",
       "      <th>0</th>\n",
       "      <td>0.27</td>\n",
       "      <td>0.045</td>\n",
       "      <td>170.0</td>\n",
       "      <td>8.8</td>\n",
       "    </tr>\n",
       "    <tr>\n",
       "      <th>1</th>\n",
       "      <td>0.30</td>\n",
       "      <td>0.049</td>\n",
       "      <td>132.0</td>\n",
       "      <td>9.5</td>\n",
       "    </tr>\n",
       "    <tr>\n",
       "      <th>2</th>\n",
       "      <td>0.28</td>\n",
       "      <td>0.050</td>\n",
       "      <td>97.0</td>\n",
       "      <td>10.1</td>\n",
       "    </tr>\n",
       "    <tr>\n",
       "      <th>3</th>\n",
       "      <td>0.23</td>\n",
       "      <td>0.058</td>\n",
       "      <td>186.0</td>\n",
       "      <td>9.9</td>\n",
       "    </tr>\n",
       "    <tr>\n",
       "      <th>4</th>\n",
       "      <td>0.23</td>\n",
       "      <td>0.058</td>\n",
       "      <td>186.0</td>\n",
       "      <td>9.9</td>\n",
       "    </tr>\n",
       "  </tbody>\n",
       "</table>\n",
       "</div>"
      ],
      "text/plain": [
       "   volatile acidity  chlorides  total sulfur dioxide  alcohol\n",
       "0              0.27      0.045                 170.0      8.8\n",
       "1              0.30      0.049                 132.0      9.5\n",
       "2              0.28      0.050                  97.0     10.1\n",
       "3              0.23      0.058                 186.0      9.9\n",
       "4              0.23      0.058                 186.0      9.9"
      ]
     },
     "execution_count": 101,
     "metadata": {},
     "output_type": "execute_result"
    }
   ],
   "source": [
    "x_df = df6.drop(['fixed acidity', 'citric acid', 'residual sugar', 'free sulfur dioxide', 'density', 'pH', 'sulphates', 'quality'], axis=1)\n",
    "y_df = df6['quality']\n",
    "x_df.head()"
   ]
  },
  {
   "cell_type": "code",
   "execution_count": 102,
   "metadata": {},
   "outputs": [],
   "source": [
    "x = x_df.to_numpy()\n",
    "y = y_df.to_numpy()"
   ]
  },
  {
   "cell_type": "code",
   "execution_count": 103,
   "metadata": {},
   "outputs": [
    {
     "data": {
      "text/plain": [
       "RandomForestClassifier(n_estimators=170, random_state=42)"
      ]
     },
     "execution_count": 103,
     "metadata": {},
     "output_type": "execute_result"
    }
   ],
   "source": [
    "rf_final = RandomForestClassifier(n_estimators=170, random_state = 42)\n",
    "rf_final.fit(x, y)"
   ]
  },
  {
   "cell_type": "code",
   "execution_count": 104,
   "metadata": {},
   "outputs": [],
   "source": [
    "y_pred_final = rf_final.predict(x)"
   ]
  },
  {
   "cell_type": "code",
   "execution_count": 105,
   "metadata": {},
   "outputs": [
    {
     "name": "stdout",
     "output_type": "stream",
     "text": [
      "Score:  1.0\n"
     ]
    }
   ],
   "source": [
    "print(\"Score: \", rf_final.score(x, y))"
   ]
  },
  {
   "cell_type": "code",
   "execution_count": 106,
   "metadata": {},
   "outputs": [
    {
     "data": {
      "text/plain": [
       "array([[  10,    0,    0,    0,    0,    0,    0],\n",
       "       [   0,  128,    0,    0,    0,    0,    0],\n",
       "       [   0,    0, 1255,    0,    0,    0,    0],\n",
       "       [   0,    0,    0, 1922,    0,    0,    0],\n",
       "       [   0,    0,    0,    0,  804,    0,    0],\n",
       "       [   0,    0,    0,    0,    0,  161,    0],\n",
       "       [   0,    0,    0,    0,    0,    0,    4]], dtype=int64)"
      ]
     },
     "execution_count": 106,
     "metadata": {},
     "output_type": "execute_result"
    }
   ],
   "source": [
    "cm_final = confusion_matrix(y, y_pred_final)\n",
    "cm_final"
   ]
  },
  {
   "cell_type": "code",
   "execution_count": 107,
   "metadata": {},
   "outputs": [
    {
     "data": {
      "text/plain": [
       "<AxesSubplot:>"
      ]
     },
     "execution_count": 107,
     "metadata": {},
     "output_type": "execute_result"
    },
    {
     "data": {
      "image/png": "[encoded data removed]",
      "text/plain": [
       "<Figure size 576x576 with 2 Axes>"
      ]
     },
     "metadata": {
      "needs_background": "light"
     },
     "output_type": "display_data"
    }
   ],
   "source": [
    "plt.figure(figsize=(8,8))\n",
    "sns.heatmap(cm_final, square=True, annot=True, fmt=\"d\", cmap='viridis')"
   ]
  },
  {
   "cell_type": "code",
   "execution_count": 108,
   "metadata": {},
   "outputs": [
    {
     "data": {
      "text/plain": [
       "array([6], dtype=int64)"
      ]
     },
     "execution_count": 108,
     "metadata": {},
     "output_type": "execute_result"
    }
   ],
   "source": [
    "rf_final.predict([[0.23, 0.058, 186.0, 9.9]])"
   ]
  },
  {
   "cell_type": "markdown",
   "metadata": {},
   "source": [
    "<b>Random Forest is a complex model of ensemble learning, It has great results and a high performance for regression and classification tasks."
   ]
  }
 ],
 "metadata": {
  "kernelspec": {
   "display_name": "Python 3",
   "language": "python",
   "name": "python3"
  },
  "language_info": {
   "codemirror_mode": {
    "name": "ipython",
    "version": 3
   },
   "file_extension": ".py",
   "mimetype": "text/x-python",
   "name": "python",
   "nbconvert_exporter": "python",
   "pygments_lexer": "ipython3",
   "version": "3.8.5"
  },
  "toc": {
   "base_numbering": 1,
   "nav_menu": {},
   "number_sections": true,
   "sideBar": true,
   "skip_h1_title": false,
   "title_cell": "Table of Contents",
   "title_sidebar": "Contents",
   "toc_cell": false,
   "toc_position": {},
   "toc_section_display": true,
   "toc_window_display": true
  }
 },
 "nbformat": 4,
 "nbformat_minor": 4
}
